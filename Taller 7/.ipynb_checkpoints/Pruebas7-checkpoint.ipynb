{
 "cells": [
  {
   "cell_type": "code",
   "execution_count": 8,
   "metadata": {},
   "outputs": [],
   "source": [
    "import pandas as pd\n",
    "import numpy as np\n",
    "import matplotlib.pyplot as plt\n",
    "from scipy.spatial import cKDTree\n",
    "from itertools import combinations\n",
    "from metrics import *"
   ]
  },
  {
   "cell_type": "code",
   "execution_count": 9,
   "metadata": {},
   "outputs": [],
   "source": [
    "def deltaS(Ci,Cj):\n",
    "    minDist=np.inf\n",
    "    print(Ci,Cj)\n",
    "    for xi in Ci:\n",
    "        for yj in Cj:\n",
    "            xi=np.array(xi)\n",
    "            yj=np.array(yj)\n",
    "            distance=np.linalg.norm(xi-yj)            \n",
    "            if distance< minDist:\n",
    "                minDist=distance\n",
    "                twoPoints=np.array([xi,yj])            \n",
    "                    \n",
    "    return minDist,twoPoints\n",
    "\n",
    "D=pd.read_csv('iris.csv').values[:,[0,1,2,3]].tolist()\n",
    "\n"
   ]
  },
  {
   "cell_type": "code",
   "execution_count": 10,
   "metadata": {},
   "outputs": [
    {
     "name": "stdout",
     "output_type": "stream",
     "text": [
      "[[0], [1], [2], [3], [4], [5], [6], [7], [8]]\n",
      "[[0, 12], [1], [2], [3], [4], [5], [6], [7], [8]]\n"
     ]
    }
   ],
   "source": [
    "C1=list(range(9))\n",
    "C1=[[i] for i in C1]\n",
    "print(C1)\n",
    "C1[0].append(12)\n",
    "print(C1)"
   ]
  },
  {
   "cell_type": "code",
   "execution_count": 11,
   "metadata": {},
   "outputs": [
    {
     "data": {
      "text/plain": [
       "(array([ 0,  1,  2,  3,  4,  5,  6, 12, 15], dtype=int64),)"
      ]
     },
     "execution_count": 11,
     "metadata": {},
     "output_type": "execute_result"
    }
   ],
   "source": [
    "a=np.array([1,2,2,2,3,4,5,6,6,7,8,9,1,7,7,3])\n",
    "np.unique(a)\n",
    "b=np.where(a<6)\n",
    "b"
   ]
  },
  {
   "cell_type": "code",
   "execution_count": 16,
   "metadata": {},
   "outputs": [
    {
     "name": "stdout",
     "output_type": "stream",
     "text": [
      "[1 1 1 1 1 1 2 2 2 2 2 3 3 3 3]\n"
     ]
    },
    {
     "data": {
      "image/png": "[encoded data removed]",
      "text/plain": [
       "<Figure size 432x288 with 1 Axes>"
      ]
     },
     "metadata": {
      "needs_background": "light"
     },
     "output_type": "display_data"
    }
   ],
   "source": [
    "def deltaSingle(Ci,Cj):\n",
    "    minDist=np.inf\n",
    "    for xi in Ci:\n",
    "        for yj in Cj:            \n",
    "            xi=np.array(xi)\n",
    "            yj=np.array(yj)\n",
    "            \n",
    "            distance=np.linalg.norm(xi-yj)            \n",
    "            if distance <= minDist:\n",
    "                minDist=distance                          \n",
    "                    \n",
    "    return minDist\n",
    "\n",
    "def deltaComplete(Ci,Cj):\n",
    "    minDist=0\n",
    "    for xi in Ci:\n",
    "        for yj in Cj:            \n",
    "            xi=np.array(xi)\n",
    "            yj=np.array(yj)\n",
    "            \n",
    "            distance=np.linalg.norm(xi-yj)            \n",
    "            if distance >= minDist:\n",
    "                minDist=distance\n",
    "                           \n",
    "                    \n",
    "    return minDist\n",
    "\n",
    "def agglomerativeClusteringNaive(D,dist,k=1):\n",
    "    C1=np.arange(D.shape[0])    \n",
    "    \n",
    "    \n",
    "    while True:\n",
    "        \n",
    "        uniqueC1=np.unique(C1)        \n",
    "        minDis=np.inf        \n",
    "        \n",
    "        for combo in combinations(uniqueC1,2):            \n",
    "            Ct1=np.array(D)[np.where(C1==combo[0])] \n",
    "            Ct2=np.array(D)[np.where(C1==combo[1])]\n",
    "                           \n",
    "            interClusterDis=dist(Ct1,Ct2)\n",
    "            \n",
    "            if interClusterDis<=minDis:\n",
    "                \n",
    "                minDis=interClusterDis\n",
    "                clusterIndx=[combo[0],combo[1]]\n",
    "                \n",
    "        C1 = np.where(C1== clusterIndx[1], clusterIndx[0], C1)\n",
    "        \n",
    "        if uniqueC1.shape[0]>=k+1:\n",
    "            break;\n",
    "            \n",
    "    C1=np.unique(C1, return_inverse = True)[1]+1 \n",
    "    return C1\n",
    "\n",
    "D=np.array([[1,2],[1,1],[1,3],[2,2],[3,1],[1.5,1.9],[10,11],[9,16],[7,14],[11,15],[15,15],[10,2],[12,2],[14.5,3],[8,6]])\n",
    "C1=agglomerativeClusteringNaive(D,deltaSingle,3)\n",
    "plotClusters(D, C1, 0, 1, None, None)\n",
    "print(C1)"
   ]
  },
  {
   "cell_type": "code",
   "execution_count": 25,
   "metadata": {},
   "outputs": [
    {
     "name": "stdout",
     "output_type": "stream",
     "text": [
      "[1 1 1 1 1 1 1 1 1 1 1 1 1 1 1 1 1 1 1 1 1 1 1 1 1 1 1 1 1 1 1 1 1 1 1 1 1\n",
      " 1 1 1 1 1 1 1 1 1 1 1 1 1 1 1 1 1 1 1 1 1 1 1 1 1 1 1 1 1 1 1 1 1 1 1 1 2\n",
      " 1 1 1 1 1 1 1 1 1 1 1 1 1 1 1 1 1 1 1 1 1 1 1 1 1 1 1 1 1 1 1 1 1 1 1 1 1\n",
      " 1 1 1 1 1 1 1 1 1 1 1 1 1 1 1 1 1 2 1 1 1 1 1 1 1 1 1 1 1 1 1 1 1 1 1 1 1\n",
      " 1 1 1 1 1 1 1 1 1 1 1 1 1 1 1 1 1 1 1 1 1 1 1 1 1 1 1 1 1 1 1 1 1 1 1 1 1\n",
      " 1 1 1 1 1 1 1 1 1 1 1 1 1 3 1 1 1 1 1 1 1 1 1 1 1 1 1 1 1 1 1 1 1 1 1 1 1\n",
      " 1 1 1 1 1 1 1 1 1 1 1 1 1 1 1 1 1 1 1 1 1 1 1 1 1 1 1 1 1 1 1 1 1 1 1 1 1\n",
      " 1 1 1 1 1 1 1 1 1 1 1 1 1 1 1 1 1 1 1 1 1 1 1 1 1 1 1 1 1 1 1 1 1 1 1 1 1\n",
      " 1 1 1 1 1 1 1 1 1 1 1 1 1 1 1 1 1 1 1 1 1 1 1 1 1 1 1 1 1 1 1 1 1 1 1 1 1\n",
      " 1 1 1 1 1 1 1 1 1 1 1 1 1 1 1 1 1 1 1 1 1 1 1 1 1 1 1 1 1 1 1 1 1 1 1 1 1\n",
      " 1 1 1 1 1 1 1 1 1 1 1 1 1 1 1 1 1 1 1 1 1 1 1 1 1 1 1 1 1 1 1 1 1 1 1 1 1\n",
      " 1 1 1 1 1 1 1 1 1 1 1 1 1 1 1 1 1 1 1 1 1 1 1 1 1 1 1 1 1 1 1 1 1 1 1 1 1\n",
      " 1 1 1 1 1 1 1 1 1 1 1 1 1 1 1 1 1 1 1 1 1 1 1 1 1 1 1 1 1 1 1 1 1 1 1 1 1\n",
      " 1 1 1 1 1 1 1 1 1 1 1 1 1 1 1 1 1 1 1]\n"
     ]
    }
   ],
   "source": [
    "print(C1)"
   ]
  },
  {
   "cell_type": "code",
   "execution_count": 26,
   "metadata": {},
   "outputs": [
    {
     "ename": "NameError",
     "evalue": "name 'C2' is not defined",
     "output_type": "error",
     "traceback": [
      "\u001b[1;31m---------------------------------------------------------------------------\u001b[0m",
      "\u001b[1;31mNameError\u001b[0m                                 Traceback (most recent call last)",
      "\u001b[1;32m<ipython-input-26-97cf7185e241>\u001b[0m in \u001b[0;36m<module>\u001b[1;34m\u001b[0m\n\u001b[1;32m----> 1\u001b[1;33m \u001b[0mprint\u001b[0m\u001b[1;33m(\u001b[0m\u001b[0mC2\u001b[0m\u001b[1;33m)\u001b[0m\u001b[1;33m\u001b[0m\u001b[1;33m\u001b[0m\u001b[0m\n\u001b[0m",
      "\u001b[1;31mNameError\u001b[0m: name 'C2' is not defined"
     ]
    }
   ],
   "source": [
    "print(C2)"
   ]
  },
  {
   "cell_type": "code",
   "execution_count": null,
   "metadata": {},
   "outputs": [],
   "source": []
  }
 ],
 "metadata": {
  "kernelspec": {
   "display_name": "Python 3",
   "language": "python",
   "name": "python3"
  },
  "language_info": {
   "codemirror_mode": {
    "name": "ipython",
    "version": 3
   },
   "file_extension": ".py",
   "mimetype": "text/x-python",
   "name": "python",
   "nbconvert_exporter": "python",
   "pygments_lexer": "ipython3",
   "version": "3.8.3"
  }
 },
 "nbformat": 4,
 "nbformat_minor": 4
}
