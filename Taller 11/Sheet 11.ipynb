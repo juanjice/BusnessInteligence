{
 "cells": [
  {
   "cell_type": "code",
   "execution_count": 2,
   "metadata": {},
   "outputs": [],
   "source": [
    "import numpy as np\n",
    "import pandas as pd\n",
    "from time import time\n",
    "from itertools import combinations\n",
    "import copy "
   ]
  },
  {
   "cell_type": "markdown",
   "metadata": {},
   "source": [
    "Juan Manuel Jimenez  \n",
    "Ian Chona  \n",
    "Camilo Franco Beltran  "
   ]
  },
  {
   "cell_type": "markdown",
   "metadata": {},
   "source": [
    "\n",
    "# # Sheet -11-"
   ]
  },
  {
   "cell_type": "code",
   "execution_count": null,
   "metadata": {},
   "outputs": [],
   "source": [
    "Exercise 1 (4 Points)\n",
    "Consider the following DNA sequence database for \u0006 = fA;C; G; Tg:"
   ]
  },
  {
   "cell_type": "markdown",
   "metadata": {},
   "source": [
    "2.1 Implement functions SPADE(db, minsup) and PrefixSpan(db, minsup) to mine frequent sequences; return a list of tuples (sequences with their support). "
   ]
  },
  {
   "cell_type": "code",
   "execution_count": 55,
   "metadata": {},
   "outputs": [
    {
     "name": "stdout",
     "output_type": "stream",
     "text": [
      "ya calcule P\n",
      "[('A', 7), ('AC', 6), ('ACT', 4), ('AG', 6), ('AGC', 6), ('AGT', 5), ('AGTC', 4), ('AT', 6), ('ATC', 5), ('C', 7), ('CA', 6), ('CAG', 4), ('CC', 4), ('CG', 6), ('CGC', 4), ('CT', 5), ('CTC', 4), ('G', 7), ('GA', 5), ('GAG', 4), ('GC', 6), ('GCA', 4), ('GCG', 4), ('GG', 4), ('GT', 6), ('GTC', 5), ('T', 7), ('TA', 5), ('TC', 6), ('TCA', 5), ('TCG', 4), ('TG', 5)]\n",
      "me demore:  0.019526958465576172\n"
     ]
    }
   ],
   "source": [
    "def getP(db,uniques,minsup):#Funcion para obtener el P inicial\n",
    "    P={}\n",
    "                \n",
    "    for unique in uniques: \n",
    "        if not(unique in P):\n",
    "                P[unique]={}\n",
    "        for tIndex,secuence in enumerate(db):            \n",
    "            indexes=np.where(secuence==unique)[0]                       \n",
    "            if indexes.size == 0:\n",
    "                continue            \n",
    "            P[unique][tIndex]=indexes\n",
    "        if len(P[unique])<minsup:\n",
    "            del P[unique]\n",
    "    print(\"ya calcule P\")    \n",
    "    return P\n",
    "\n",
    "def SPADE(db,minsup): \n",
    "    #Obtenemos los elementos unicos de la lista    \n",
    "    uniques=sorted(set(''.join(db)))   \n",
    "    #obtenemos P\n",
    "    db = np.array([ np.array(list(word)) for word in db ])\n",
    "    P=getP(db,uniques,minsup)\n",
    "    F=[]\n",
    "    k=0\n",
    "    F=SPADErec(P,minsup,F,k)\n",
    "    return F\n",
    "\n",
    "def SPADErec(P,minsup,F,k): \n",
    "    for ra in P:\n",
    "        F.append((ra,len(P[ra])))\n",
    "        Pa={}\n",
    "        for rb in P:\n",
    "            newkey=ra+rb[k]\n",
    "            LposAB=joinIntersection(ra,rb,P,k)\n",
    "            if not(len(LposAB)<minsup):\n",
    "                Pa[newkey]=LposAB\n",
    "        \n",
    "        if Pa:\n",
    "            SPADErec(Pa,minsup,F,k+1)\n",
    "        \n",
    "    return F       \n",
    "def joinIntersection(ra,rb,P,k):    \n",
    "    rab={}    \n",
    "    for element in P[rb]:               \n",
    "        if not(element in P[ra]):\n",
    "            continue\n",
    "        else:\n",
    "            Lposa=P[ra][element]\n",
    "            Lposb=P[rb][element]            \n",
    "            rab[element]=Lposb[np.where(Lposb>np.min(Lposa))]\n",
    "            if rab[element].size==0:\n",
    "                del rab[element]\n",
    "        \n",
    "            \n",
    "    return rab\n",
    "start=time()    \n",
    "db=np.loadtxt('capitulo10.dat', dtype=str, delimiter='#', comments=None)\n",
    "print(SPADE(db,4))\n",
    "finish=time()  \n",
    "print(\"me demore: \",finish-start)"
   ]
  },
  {
   "cell_type": "code",
   "execution_count": 57,
   "metadata": {},
   "outputs": [
    {
     "name": "stdout",
     "output_type": "stream",
     "text": [
      "[('A', 7), ('AC', 6), ('ACT', 4), ('AG', 6), ('AGC', 6), ('AGT', 5), ('AGTC', 4), ('AT', 6), ('ATC', 5), ('C', 7), ('CA', 6), ('CAG', 4), ('CC', 4), ('CG', 6), ('CGC', 4), ('CT', 5), ('CTC', 4), ('G', 7), ('GA', 5), ('GAG', 4), ('GC', 6), ('GCA', 4), ('GCG', 4), ('GG', 4), ('GT', 6), ('GTC', 5), ('T', 7), ('TA', 5), ('TC', 6), ('TCA', 5), ('TCG', 4), ('TG', 5)]\n",
      "me demore:  0.004884004592895508\n"
     ]
    }
   ],
   "source": [
    "def suportElements(elements,Dr,minsup): \n",
    "    suports={}\n",
    "    for element in elements:\n",
    "        if not(element in suports):\n",
    "            suports[element]=0\n",
    "        for secuence in Dr:            \n",
    "            if element in secuence:\n",
    "                suports[element]+=1 \n",
    "        if suports[element]<minsup:\n",
    "            del suports[element]\n",
    "    return suports\n",
    "\n",
    "def PrefixSpan(db,minsup):\n",
    "    r=''\n",
    "    F=[] \n",
    "    uniques=sorted(set(''.join(db)))\n",
    "    sigma=suportElements(uniques,db,minsup)\n",
    "    F=PrefixSpanRec(db,r,minsup,F,sigma)\n",
    "    \n",
    "    return F\n",
    "\n",
    "def PrefixSpanRec(dr,r,minsup,F,sigma):    \n",
    "    Ds={}    \n",
    "    concatSupKeys=''.join(sigma.keys())    \n",
    "    for s in sigma:        \n",
    "        rs=r+s        \n",
    "        F.append((rs,sigma[s]))\n",
    "        Ds=[]\n",
    "        for si in dr:            \n",
    "            if not(s in si):\n",
    "                continue\n",
    "            subString=si[si.index(s)+1:]            \n",
    "            for sub in subString:                \n",
    "                if not(sub in concatSupKeys):                    \n",
    "                    subString=subString.replace(sub,'')\n",
    "            if subString=='':\n",
    "                continue\n",
    "            Ds.append(subString)\n",
    "        newuniques=sorted(set(''.join(Ds)))        \n",
    "        if Ds:\n",
    "            newSigma=suportElements(newuniques,Ds,minsup)            \n",
    "            PrefixSpanRec(Ds,rs,minsup,F,newSigma)\n",
    "            \n",
    "    return F\n",
    "start=time() \n",
    "db=np.loadtxt('capitulo10.dat', dtype=str, delimiter='#', comments=None).tolist()\n",
    "print(PrefixSpan(db,4))\n",
    "finish=time()  \n",
    "print(\"me demore: \",finish-start)"
   ]
  },
  {
   "cell_type": "markdown",
   "metadata": {},
   "source": [
    "2. Implement a function MineSubstrings(db, minsup), which mines frequent substrings\n",
    "in the database; return substrings with their support."
   ]
  },
  {
   "cell_type": "code",
   "execution_count": 49,
   "metadata": {},
   "outputs": [
    {
     "name": "stdout",
     "output_type": "stream",
     "text": [
      "[('$', 49), ('A', 29), ('A$', 29), ('AA', 4), ('AA$', 4), ('AC', 16), ('AC$', 16), ('ACA', 4), ('ACA$', 4), ('ACC', 7), ('ACC$', 7), ('ACCA', 3), ('ACCA$', 3), ('ACG', 9), ('ACG$', 9), ('ACGA', 3), ('ACGA$', 3), ('ACGC', 3), ('ACGC$', 3), ('ACGCA', 3), ('ACGCA$', 3), ('ACT', 8), ('ACT$', 8), ('ACTA', 3), ('ACTA$', 3), ('ACTC', 7), ('ACTC$', 7), ('ACTCA', 3), ('ACTCA$', 3), ('ACTG', 3), ('ACTG$', 3), ('AG', 20), ('AG$', 20), ('AGA', 4), ('AGA$', 4), ('AGC', 11), ('AGC$', 11), ('AGCA', 4), ('AGCA$', 4), ('AGCC', 5), ('AGCC$', 5), ('AGCT', 5), ('AGCT$', 5), ('AGCTC', 4), ('AGCTC$', 4), ('AGT', 9), ('AGT$', 9), ('AGTC', 8), ('AGTC$', 8), ('AT', 11), ('AT$', 11), ('ATA', 4), ('ATA$', 4), ('ATC', 10), ('ATC$', 10), ('ATCA', 4), ('ATCA$', 4), ('ATG', 4), ('ATG$', 4), ('C', 35), ('C$', 35), ('CA', 21), ('CA$', 21), ('CAC', 9), ('CAC$', 9), ('CACC', 3), ('CACC$', 3), ('CACG', 5), ('CACG$', 5), ('CACT', 3), ('CACT$', 3), ('CACTC', 3), ('CACTC$', 3), ('CAG', 13), ('CAG$', 13), ('CAGC', 4), ('CAGC$', 4), ('CAGCC', 3), ('CAGCC$', 3), ('CAGCT', 3), ('CAGCT$', 3), ('CAGCTC', 3), ('CAGCTC$', 3), ('CAGT', 4), ('CAGT$', 4), ('CAGTC', 4), ('CAGTC$', 4), ('CAT', 4), ('CAT$', 4), ('CATC', 4), ('CATC$', 4), ('CC', 15), ('CC$', 15), ('CCA', 5), ('CCA$', 5), ('CCC', 5), ('CCC$', 5), ('CCG', 5), ('CCG$', 5), ('CCT', 3), ('CCT$', 3), ('CCTC', 3), ('CCTC$', 3), ('CG', 20), ('CG$', 20), ('CGA', 7), ('CGA$', 7), ('CGC', 9), ('CGC$', 9), ('CGCA', 5), ('CGCA$', 5), ('CGCC', 5), ('CGCC$', 5), ('CGCT', 3), ('CGCT$', 3), ('CGCTC', 3), ('CGCTC$', 3), ('CGT', 6), ('CGT$', 6), ('CGTC', 6), ('CGTC$', 6), ('CT', 15), ('CT$', 15), ('CTA', 5), ('CTA$', 5), ('CTC', 12), ('CTC$', 12), ('CTCA', 5), ('CTCA$', 5), ('CTG', 5), ('CTG$', 5), ('CTGA', 3), ('CTGA$', 3), ('CTGC', 3), ('CTGC$', 3), ('CTGCA', 3), ('CTGCA$', 3), ('G', 32), ('G$', 32), ('GA', 15), ('GA$', 15), ('GAC', 6), ('GAC$', 6), ('GACC', 3), ('GACC$', 3), ('GACG', 4), ('GACG$', 4), ('GACT', 3), ('GACT$', 3), ('GACTC', 3), ('GACTC$', 3), ('GAG', 8), ('GAG$', 8), ('GAGC', 3), ('GAGC$', 3), ('GAT', 3), ('GAT$', 3), ('GATC', 3), ('GATC$', 3), ('GC', 20), ('GC$', 20), ('GCA', 12), ('GCA$', 12), ('GCAC', 5), ('GCAC$', 5), ('GCACG', 3), ('GCACG$', 3), ('GCAG', 7), ('GCAG$', 7), ('GCC', 9), ('GCC$', 9), ('GCCG', 3), ('GCCG$', 3), ('GCG', 8), ('GCG$', 8), ('GCGC', 3), ('GCGC$', 3), ('GCT', 8), ('GCT$', 8), ('GCTC', 6), ('GCTC$', 6), ('GG', 8), ('GG$', 8), ('GGC', 3), ('GGC$', 3), ('GT', 16), ('GT$', 16), ('GTA', 6), ('GTA$', 6), ('GTAC', 3), ('GTAC$', 3), ('GTACG', 3), ('GTACG$', 3), ('GTAG', 5), ('GTAG$', 5), ('GTC', 14), ('GTC$', 14), ('GTCA', 6), ('GTCA$', 6), ('GTCAC', 3), ('GTCAC$', 3), ('GTCACG', 3), ('GTCACG$', 3), ('GTCAG', 5), ('GTCAG$', 5), ('GTCC', 3), ('GTCC$', 3), ('GTCCG', 3), ('GTCCG$', 3), ('GTCG', 5), ('GTCG$', 5), ('GTG', 6), ('GTG$', 6), ('T', 27), ('T$', 27), ('TA', 13), ('TA$', 13), ('TAC', 5), ('TAC$', 5), ('TACG', 4), ('TACG$', 4), ('TAG', 8), ('TAG$', 8), ('TC', 23), ('TC$', 23), ('TCA', 13), ('TCA$', 13), ('TCAC', 5), ('TCAC$', 5), ('TCACG', 4), ('TCACG$', 4), ('TCAG', 8), ('TCAG$', 8), ('TCC', 5), ('TCC$', 5), ('TCCG', 4), ('TCCG$', 4), ('TCG', 9), ('TCG$', 9), ('TG', 13), ('TG$', 13), ('TGA', 6), ('TGA$', 6), ('TGC', 5), ('TGC$', 5), ('TGCA', 5), ('TGCA$', 5)]\n"
     ]
    }
   ],
   "source": [
    "\n",
    "def MineSubstrings(db,minsup):\n",
    "    \n",
    "    temp=[[\"\"]]    \n",
    "    for ind,st in enumerate(db):\n",
    "        s=list(\"\".join(st))\n",
    "        n=len(s)\n",
    "        s.append(\"$\")\n",
    "        for i in range(0,n+1):\n",
    "            for j in range(0,i+1):\n",
    "                if [\"\".join(s[j:i])] in temp:\n",
    "                    temp[temp.index([\"\".join(s[j:i])])]=[\"\".join(s[j:i])+s[i]]\n",
    "                else:\n",
    "                    temp.append([s[i]])\n",
    "    \n",
    "    \n",
    "    return PrefixSpan(np.array(temp).flatten(),minsup)\n",
    "\n",
    "db=np.loadtxt('capitulo10.dat', dtype=str, delimiter='#', comments=None).tolist()\n",
    "print(MineSubstrings(db,3))"
   ]
  },
  {
   "cell_type": "code",
   "execution_count": 75,
   "metadata": {},
   "outputs": [
    {
     "name": "stdout",
     "output_type": "stream",
     "text": [
      "2-0-18-0\n",
      "------------------------\n",
      "1-3-16-0\n",
      "------------------------\n",
      "1-1-17-1\n",
      "------------------------\n",
      "0-6-14-0\n",
      "------------------------\n",
      "0-4-15-1\n",
      "------------------------\n",
      "0-2-16-2\n",
      "------------------------\n",
      "0-0-17-3\n",
      "------------------------\n",
      "RESULTADOS::: [{'G': 2, 'E': 0, 'P': 18, 'D': 0}, {'G': 1, 'E': 3, 'P': 16, 'D': 0}, {'G': 1, 'E': 1, 'P': 17, 'D': 1}, {'G': 0, 'E': 6, 'P': 14, 'D': 0}, {'G': 0, 'E': 4, 'P': 15, 'D': 1}, {'G': 0, 'E': 2, 'P': 16, 'D': 2}, {'G': 0, 'E': 0, 'P': 17, 'D': 3}]\n",
      "----------------\n",
      "1-1-3-0\n",
      "------------------------\n",
      "0-4-1-0\n",
      "------------------------\n",
      "0-2-2-1\n",
      "------------------------\n",
      "0-0-3-2\n",
      "------------------------\n",
      "RESULTADOS::: [{'G': 1, 'E': 1, 'P': 3, 'D': 0}, {'G': 0, 'E': 4, 'P': 1, 'D': 0}, {'G': 0, 'E': 2, 'P': 2, 'D': 1}, {'G': 0, 'E': 0, 'P': 3, 'D': 2}]\n"
     ]
    }
   ],
   "source": [
    "debug=0\n",
    "\n",
    "def CombinationThree(db,dbOriginal,juegos,numeroJuegos,Puntaje,k):\n",
    "    if debug==1:\n",
    "        print(\"db=\",db,\"bnoriginal=\",dbOriginal,\"k=\",k+1)\n",
    "    for eventA in db: \n",
    "        \n",
    "        if db[eventA]>Puntaje:\n",
    "            continue\n",
    "        newDb={}\n",
    "        for eventB in db:\n",
    "            eventAB=eventA+eventB[k]            \n",
    "            joinAB=db[eventA]+dbOriginal[eventB[k]]\n",
    "            if joinAB<=Puntaje:\n",
    "                newDb[eventAB]=joinAB\n",
    "            if k+2==numeroJuegos and joinAB==Puntaje:\n",
    "                newResults={}\n",
    "                for neutralEvent in dbOriginal:\n",
    "                     newResults[neutralEvent]=eventAB.count(neutralEvent)                \n",
    "                if not(newResults in juegos):\n",
    "                    print ('-'.join('{}'.format(v) for k,v in newResults.items()))                       \n",
    "                    #print(list(newResults.values()))\n",
    "                    print(\"------------------------\")\n",
    "                    juegos.append(newResults)\n",
    "        if k+2<=numeroJuegos:            \n",
    "            CombinationThree(newDb,dbOriginal,juegos,numeroJuegos,Puntaje,k+1)           \n",
    "            \n",
    "          \n",
    "    return juegos\n",
    "\n",
    "\n",
    "\n",
    "def Campeonato(db,numeroJuegos,Puntaje):\n",
    "    if db['G']*numeroJuegos < Puntaje:\n",
    "        return 'No es posible tener ese puntaje con tan pocos juegos'\n",
    "    juegos=[]\n",
    "    k=0    \n",
    "    posibilidades=CombinationThree(db,db,juegos,numeroJuegos,Puntaje,k)\n",
    "    \n",
    "    return posibilidades\n",
    "db={'G':3,'E':1,'P':0,'D':2}\n",
    "#Prueba 1 ,10 juegos, 1 punto\n",
    "print(\"RESULTADOS:::\",Campeonato(db,20,6))\n",
    "print(\"----------------\")  \n",
    "#Prueba 2 , 5 juegos 4 puntos\n",
    "print(\"RESULTADOS:::\",Campeonato(db,5,4))\n"
   ]
  },
  {
   "cell_type": "code",
   "execution_count": 56,
   "metadata": {},
   "outputs": [
    {
     "data": {
      "text/plain": [
       "False"
      ]
     },
     "execution_count": 56,
     "metadata": {},
     "output_type": "execute_result"
    }
   ],
   "source": [
    "{'G': 1, 'E': 1, 'P': 3} in [{'G': 11, 'E': 1, 'P': 3},{'G': 11, 'E': 21, 'P': 13}]"
   ]
  },
  {
   "cell_type": "code",
   "execution_count": 12,
   "metadata": {},
   "outputs": [
    {
     "name": "stdout",
     "output_type": "stream",
     "text": [
      "True\n",
      "False\n",
      "True\n",
      "True\n"
     ]
    }
   ],
   "source": [
    "a=np.array([0,0])\n",
    "b=np.array([1,2564654])\n",
    "c=np.array([0,16574123123])\n",
    "d=np.array([1123123,0])\n",
    "\n",
    "print(np.any(a==0))\n",
    "print(np.any(b==0))\n",
    "print(np.any(c==0))\n",
    "print(np.any(d==0))\n"
   ]
  },
  {
   "cell_type": "code",
   "execution_count": 16,
   "metadata": {},
   "outputs": [
    {
     "name": "stdout",
     "output_type": "stream",
     "text": [
      "True\n",
      "True\n",
      "True\n",
      "False\n"
     ]
    }
   ],
   "source": [
    "#Con listas\n",
    "a=[0,0]\n",
    "b=[1,0]\n",
    "c=[0,1]\n",
    "d=[12,11]\n",
    "\n",
    "print(a.count(0)>0)\n",
    "print(b.count(0)>0)\n",
    "print(c.count(0)>0)\n",
    "print(d.count(0)>0)\n"
   ]
  },
  {
   "cell_type": "code",
   "execution_count": 123,
   "metadata": {},
   "outputs": [
    {
     "data": {
      "text/plain": [
       "'201 210 89'"
      ]
     },
     "execution_count": 123,
     "metadata": {},
     "output_type": "execute_result"
    }
   ],
   "source": [
    "def threeNplusOne(a):\n",
    "    iterations=1\n",
    "    if a!=1:\n",
    "        while a!=1:                        \n",
    "            if a%2!=0:\n",
    "                a=3*a+1\n",
    "            else:\n",
    "                a=a/2\n",
    "            iterations+=1        \n",
    "    return iterations\n",
    "\n",
    "def maxTimeBetween(a,b):\n",
    "    maximun=0\n",
    "    for i in range(a,b):        \n",
    "        val=threeNplusOne(i)\n",
    "        if val>maximun:\n",
    "            maximun=val\n",
    "    result=str(a)+\" \"+str(b)+\" \"+str(maximun)\n",
    "    return result\n",
    "\n",
    "maxTimeBetween(201,210)"
   ]
  },
  {
   "cell_type": "code",
   "execution_count": null,
   "metadata": {},
   "outputs": [],
   "source": []
  }
 ],
 "metadata": {
  "kernelspec": {
   "display_name": "Python 3",
   "language": "python",
   "name": "python3"
  },
  "language_info": {
   "codemirror_mode": {
    "name": "ipython",
    "version": 3
   },
   "file_extension": ".py",
   "mimetype": "text/x-python",
   "name": "python",
   "nbconvert_exporter": "python",
   "pygments_lexer": "ipython3",
   "version": "3.8.3"
  }
 },
 "nbformat": 4,
 "nbformat_minor": 4
}
