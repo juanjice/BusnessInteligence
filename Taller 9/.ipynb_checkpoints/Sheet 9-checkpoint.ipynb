{
 "cells": [
  {
   "cell_type": "code",
   "execution_count": 1,
   "metadata": {},
   "outputs": [],
   "source": [
    "import numpy as np\n",
    "import pandas as pd\n",
    "from template import *\n",
    "from template2 import *\n",
    "from time import time\n",
    "from itertools import combinations"
   ]
  },
  {
   "cell_type": "markdown",
   "metadata": {},
   "source": [
    "Juan Manuel Jimenez  \n",
    "Ian Chona  \n",
    "Camilo Franco Beltran  \n"
   ]
  },
  {
   "cell_type": "markdown",
   "metadata": {},
   "source": [
    "#  Sheet -9-"
   ]
  },
  {
   "cell_type": "markdown",
   "metadata": {},
   "source": [
    "1.Write functions sup(D,X,Y=None), conf(D,X,Y), lift(D,X,Y=None), leverage(D,X,Y),\n",
    "jaccard(D,X,Y), conviction(D,X,Y), oddsRatio(D,X,Y), imp(D,X,Y) that compute\n",
    "for any rule X 􀀀! Y the respective metric given the dataset D, where D is a list\n",
    "of lists of item IDs. Note that, for the support and lift, the conclusion is optional.\n",
    "This is to allow the calculation of support and lift of patterns (itemsets). Add a\n",
    "function getRuleMetric(D,X,Y,metric) that computes the metric metric (given as a\n",
    "string name in fsup; conf ; lift ; leverage; jaccard; conviction; oddsratio; impg) for the rule\n",
    "X 􀀀! Y in the data D."
   ]
  },
  {
   "cell_type": "code",
   "execution_count": 71,
   "metadata": {},
   "outputs": [],
   "source": [
    "def sup(D,X,Y=None):\n",
    "    if Y==None:\n",
    "        Y=[]\n",
    "    db=pd.DataFrame(D).values    \n",
    "    XY=sorted(np.concatenate((X, Y), axis=0))    \n",
    "    return np.count_nonzero(np.sum(np.isin(db,XY),axis=1) ==len(XY))\n",
    "\n",
    "def conf(D,X,Y):    \n",
    "    supXY=sup(D,X,Y)\n",
    "    supX=sup(D,X)\n",
    "    return supXY/supX\n",
    "\n",
    "def lift(D,X,Y=None):\n",
    "    if Y==None:\n",
    "        supX=sup(D,X)\n",
    "        supXi=1\n",
    "        lenD=len(D)\n",
    "        for element in X:\n",
    "            supXi=supXi*(sup(D,[element])/lenD)\n",
    "        confidence=(supX/lenD)/supXi\n",
    "    else:\n",
    "        \n",
    "        confXY=conf(D,X,Y)\n",
    "        rsupY=sup(D,Y)/len(D)\n",
    "        confidence=confXY/rsupY\n",
    "    return confidence\n",
    "\n",
    "def leverage(D,X,Y):\n",
    "    lenD=len(D)\n",
    "    rsupXY=sup(D,X,Y)/lenD\n",
    "    rsupX=sup(D,X)/lenD\n",
    "    rsupY=sup(D,Y)/lenD\n",
    "    return rsupXY-rsupX*rsupY\n",
    "\n",
    "def jaccard(D,X,Y):\n",
    "    supXY=sup(D,X,Y)\n",
    "    supX=sup(D,X)\n",
    "    supY=sup(D,Y)\n",
    "    return supXY/(supX+supY-supXY)\n",
    "\n",
    "def conviction(D,X,Y):\n",
    "    rsupY=sup(D,Y)/len(D)\n",
    "    confXY=conf(D,X,Y)    \n",
    "    return (1-rsupY)/(1-confXY)\n",
    "\n",
    "def oddsRatio(D,X,Y):\n",
    "    supXY=sup(D,X,Y)\n",
    "    supX=sup(D,X)\n",
    "    supY=sup(D,Y)\n",
    "    supnXY=supY-supXY\n",
    "    supXnY=supX-supXY\n",
    "    supnXnY=(len(D)-supX)-(supnXY)\n",
    "    return (supXY*supnXnY)/(supXnY*supnXY)\n",
    "\n",
    "def imp(D,X,Y):# [217, 546, 661, 923, 947] probar con esta regla para verificar que funciona\n",
    "    premises=powerset(X)\n",
    "    confXY=conf(db,X,Y)\n",
    "    improve=X+Y\n",
    "    \n",
    "    for j in premises:\n",
    "        if len(j)<len(X) and  j:\n",
    "            confWY=conf(db,j,conclusion)\n",
    "            \n",
    "            if confWY>=confXY:\n",
    "                improve=j+Y \n",
    "                \n",
    "    return improve\n",
    "def getRuleMetric(D,X,Y,metric):\n",
    "    my_metrics = {\"sup\":sup,\"conf\":conf,\"lift\":lift,\"leverage\":leverage,\"jaccard\":jaccard,\"conviction\":conviction,\"oddsRatio\":oddsRatio,\"imp\":imp}\n",
    "    return my_metrics[metric](D,X,Y)\n"
   ]
  },
  {
   "cell_type": "markdown",
   "metadata": {},
   "source": [
    "2. Write a function getRuleBasedScore(D,X,metric,agg) that computes for all bi-partitions\n",
    "of X the score of metric metric (given as a string name in {sup; conf ; lift ; leverage;\n",
    "jaccard; conviction; oddsratio; imp}) and aggregates it based on one of the three keywords\n",
    "min, max, avg for the agg parameter."
   ]
  },
  {
   "cell_type": "code",
   "execution_count": 7,
   "metadata": {},
   "outputs": [],
   "source": [
    "def getRuleBasedScore(D,X,metric,agg):\n",
    "    \n",
    "    a=powerset(X)\n",
    "    lenA=len(a)\n",
    "    results=[]\n",
    "    for i in range(1,lenA-1):\n",
    "        rule=[a[i],a[lenA-i-1]]        \n",
    "        results.append(getRuleMetric(D,a[i],a[lenA-i-1],metric))\n",
    "    \n",
    "    measures={\"max\":max(results),\"min\":min(results),\"avg\":sum(results)/len(results)}\n",
    "    \n",
    "    return measures[agg]"
   ]
  },
  {
   "cell_type": "markdown",
   "metadata": {},
   "source": [
    "3. Write a function filterProductiveRules(D, R) that takes a database D as above and\n",
    "a list R of tuples (X,Y ) corresponding to rules X -> Y . It should return all rules of R\n",
    "that are productive."
   ]
  },
  {
   "cell_type": "code",
   "execution_count": 8,
   "metadata": {},
   "outputs": [
    {
     "data": {
      "text/plain": [
       "[]"
      ]
     },
     "execution_count": 8,
     "metadata": {},
     "output_type": "execute_result"
    }
   ],
   "source": [
    "db=readTransactionalDatabase(\"shop.dat\")\n",
    "def filterProductiveRules(D,R):\n",
    "    productiveRules=[]\n",
    "    for rule in R:\n",
    "        minLift=getRuleBasedScore(D,rule,\"lift\",\"min\")\n",
    "        minLeverage=getRuleBasedScore(D,rule,\"leverage\",\"min\")\n",
    "        if minLift>1 and minLeverage>0:\n",
    "            productiveRules.append(rule)\n",
    "            \n",
    "    return productiveRules\n",
    "filterProductiveRules(db,[[2,3,4,5],[1,2,3]])"
   ]
  },
  {
   "cell_type": "markdown",
   "metadata": {},
   "source": [
    "4. Use the algorithms in the template file to compute all the strong rules of the shop\n",
    "database and filter them so that you only retain productive ones; use minsup = 500 and\n",
    "minconf = 0.95. Now create for each 3-combination of rule metrics we have seen a 3D\n",
    "scatter plot that contains one (labeled) point for each rule. Based on these plots, can\n",
    "you identify particularly useful rules? Which are they and why?"
   ]
  },
  {
   "cell_type": "code",
   "execution_count": 67,
   "metadata": {},
   "outputs": [
    {
     "name": "stdout",
     "output_type": "stream",
     "text": [
      "[([1], 1535), ([4], 1394), ([5], 1094), ([6], 2149), ([8], 3090), ([10], 1351), ([12], 3415), ([17], 1683), ([21], 2666), ([25], 1395), ([27], 2165), ([28], 1454), ([31], 1666), ([32], 4248), ([33], 1460), ([35], 1984), ([37], 1249), ([38], 2402), ([39], 4258), ([39, 704], 1107), ([39, 704, 825], 1035), ([39, 825], 1187), ([41], 1353), ([43], 1721), ([45], 1728), ([48], 2472), ([51], 1612), ([52], 1983), ([54], 2595), ([55], 1959), ([57], 2743), ([58], 1330), ([68], 1601), ([69], 2370), ([70], 2411), ([71], 3507), ([72], 2852), ([73], 2179), ([75], 3151), ([78], 2471), ([85], 1555), ([90], 1875), ([93], 2777), ([94], 1201), ([97], 1466), ([100], 1749), ([104], 1158), ([105], 1100), ([110], 1801), ([111], 1171), ([112], 2680), ([115], 1775), ([116], 2193), ([120], 4973), ([122], 1081), ([125], 1287), ([126], 1075), ([129], 1547), ([130], 1711), ([132], 2641), ([140], 2687), ([143], 1417), ([145], 4559), ([147], 1383), ([151], 2611), ([154], 1447), ([157], 1140), ([161], 2320), ([162], 1450), ([163], 1256), ([168], 1538), ([170], 1203), ([171], 1097), ([173], 1080), ([175], 2791), ([177], 4629), ([181], 1235), ([183], 3883), ([185], 1529), ([192], 2004), ([196], 2096), ([197], 1230), ([198], 1461), ([201], 1029), ([204], 2174), ([205], 3605), ([207], 1214), ([208], 1483), ([210], 2009), ([214], 1893), ([217], 5375), ([217, 346], 1336), ([227], 1818), ([227, 390], 1049), ([229], 2281), ([234], 1416), ([236], 2618), ([239], 2742), ([240], 1399), ([242], 2325), ([258], 1036), ([259], 1522), ([265], 1359), ([266], 1022), ([274], 2628), ([275], 1692), ([276], 2479), ([279], 3014), ([280], 2108), ([283], 4082), ([285], 2600), ([290], 1793), ([294], 1445), ([296], 2210), ([308], 1402), ([309], 1262), ([310], 1390), ([319], 1371), ([322], 1154), ([325], 1022), ([326], 1488), ([332], 1861), ([334], 2146), ([335], 1345), ([336], 1071), ([343], 1599), ([346], 3470), ([348], 1226), ([349], 2041), ([350], 3069), ([351], 1641), ([354], 5835), ([357], 1142), ([361], 1104), ([362], 4388), ([366], 1031), ([368], 7828), ([368, 682], 1193), ([368, 829], 1194), ([373], 2007), ([377], 1149), ([378], 1149), ([381], 2959), ([385], 1676), ([387], 2089), ([390], 2685), ([390, 722], 1042), ([392], 2420), ([394], 1145), ([401], 3667), ([403], 1722), ([405], 1525), ([411], 2047), ([413], 2637), ([414], 1160), ([419], 5057), ([422], 1255), ([423], 1412), ([424], 1448), ([427], 1856), ([428], 1021), ([429], 1037), ([438], 4511), ([440], 1943), ([448], 1370), ([449], 1890), ([450], 2082), ([458], 1124), ([460], 4438), ([461], 1498), ([468], 1089), ([469], 1502), ([470], 4137), ([471], 2894), ([472], 2125), ([477], 2462), ([480], 2309), ([486], 1547), ([487], 3135), ([489], 3420), ([490], 1066), ([494], 5102), ([496], 1428), ([500], 1444), ([504], 1296), ([509], 3044), ([510], 3281), ([511], 1015), ([513], 1287), ([515], 1166), ([516], 1544), ([517], 1201), ([521], 1582), ([522], 2725), ([523], 2244), ([526], 2793), ([527], 1185), ([529], 7057), ([530], 1263), ([534], 1531), ([538], 3982), ([540], 1293), ([541], 3735), ([546], 1050), ([548], 2843), ([550], 1203), ([554], 1114), ([561], 2783), ([563], 1065), ([567], 1102), ([569], 2835), ([571], 2902), ([572], 1589), ([573], 1229), ([574], 1297), ([576], 1337), ([577], 1695), ([578], 1290), ([579], 2164), ([580], 1667), ([581], 2943), ([583], 1389), ([591], 1241), ([593], 2601), ([594], 1516), ([597], 2883), ([598], 3219), ([600], 1192), ([605], 1652), ([606], 2668), ([611], 1444), ([614], 3134), ([617], 2614), ([618], 1337), ([620], 2100), ([623], 1845), ([628], 1102), ([630], 1523), ([631], 2793), ([632], 1070), ([634], 2492), ([638], 2288), ([639], 1572), ([641], 1494), ([649], 1292), ([651], 1288), ([653], 2634), ([658], 1881), ([661], 2693), ([663], 2354), ([665], 1297), ([673], 1635), ([674], 2527), ([675], 2976), ([676], 2717), ([678], 1329), ([682], 4132), ([684], 5408), ([686], 1495), ([687], 1762), ([688], 1132), ([692], 4993), ([694], 2847), ([701], 1283), ([704], 1794), ([704, 825], 1102), ([706], 1923), ([707], 1354), ([708], 1090), ([710], 1044), ([716], 1199), ([718], 1238), ([720], 3864), ([722], 5845), ([733], 1141), ([735], 1689), ([736], 1470), ([738], 2129), ([740], 1632), ([744], 2177), ([746], 1982), ([749], 1330), ([752], 2578), ([758], 2860), ([763], 1862), ([765], 1705), ([766], 6265), ([769], 1622), ([774], 2046), ([775], 3771), ([778], 2514), ([780], 2306), ([782], 2767), ([784], 1257), ([788], 2386), ([789], 4309), ([789, 829], 1194), ([790], 1094), ([792], 1306), ([793], 3063), ([795], 3361), ([797], 2684), ([798], 3103), ([800], 1916), ([803], 2237), ([804], 1315), ([805], 1789), ([809], 2163), ([810], 1267), ([812], 1518), ([814], 1672), ([815], 1358), ([819], 1257), ([820], 1473), ([823], 1031), ([825], 3085), ([826], 2022), ([829], 6810), ([832], 2062), ([834], 1373), ([841], 1927), ([843], 1222), ([844], 2814), ([846], 1480), ([853], 1804), ([854], 2847), ([857], 1588), ([859], 1242), ([860], 1255), ([862], 3649), ([867], 1530), ([871], 2810), ([874], 2237), ([878], 2047), ([883], 4902), ([884], 1645), ([885], 3043), ([886], 3053), ([887], 1671), ([888], 3686), ([890], 1437), ([893], 1947), ([895], 3385), ([897], 1935), ([899], 1252), ([900], 1165), ([906], 1444), ([910], 1695), ([912], 1009), ([913], 1939), ([914], 4037), ([918], 3012), ([919], 3710), ([921], 2425), ([923], 1753), ([928], 1034), ([932], 1786), ([935], 1742), ([937], 4681), ([941], 1126), ([944], 2794), ([946], 1350), ([947], 3690), ([948], 1149), ([949], 1414), ([950], 1463), ([952], 1574), ([956], 3626), ([960], 2732), ([963], 1327), ([964], 1518), ([966], 3921), ([967], 1695), ([970], 2086), ([975], 1764), ([978], 1141), ([981], 1542), ([982], 1640), ([984], 1756), ([988], 1164), ([989], 1289), ([991], 1268), ([992], 1116), ([995], 1521), ([998], 2713)]\n",
      "[[39, 704, 825]] to improve\n"
     ]
    }
   ],
   "source": [
    "db=readTransactionalDatabase(\"shop.dat\")\n",
    "rules=eclat(db, 1000)\n",
    "print(rules)\n",
    "rulesToImprove=[row[0] for row in rules if len(row[0])>2]\n",
    "print(rulesToImprove,\"to improve\")"
   ]
  },
  {
   "cell_type": "code",
   "execution_count": 72,
   "metadata": {},
   "outputs": [
    {
     "name": "stdout",
     "output_type": "stream",
     "text": [
      "\n",
      "[[39, 704, 825]]\n"
     ]
    }
   ],
   "source": [
    "for i in rulesToImprove:\n",
    "    premise=i.copy()\n",
    "    premise.pop()\n",
    "    conclusion=[i[-1]]\n",
    "    i=imp(db,premise,conclusion)\n",
    "    print()\n",
    "print(rulesToImprove)\n",
    "#[1,2,3,4,5]\n",
    "#[1,2,3]-[4,5]\n",
    "#[1,2]\n",
    "#[1,3]"
   ]
  },
  {
   "cell_type": "code",
   "execution_count": 73,
   "metadata": {},
   "outputs": [
    {
     "data": {
      "text/plain": [
       "[39, 704, 825]"
      ]
     },
     "execution_count": 73,
     "metadata": {},
     "output_type": "execute_result"
    }
   ],
   "source": [
    "imp(db,[39 ,  704] ,[ 825 ])"
   ]
  }
 ],
 "metadata": {
  "kernelspec": {
   "display_name": "Python 3",
   "language": "python",
   "name": "python3"
  },
  "language_info": {
   "codemirror_mode": {
    "name": "ipython",
    "version": 3
   },
   "file_extension": ".py",
   "mimetype": "text/x-python",
   "name": "python",
   "nbconvert_exporter": "python",
   "pygments_lexer": "ipython3",
   "version": "3.8.3"
  }
 },
 "nbformat": 4,
 "nbformat_minor": 4
}
