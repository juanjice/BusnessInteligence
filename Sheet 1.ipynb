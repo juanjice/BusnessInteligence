{
 "cells": [
  {
   "cell_type": "code",
   "execution_count": 3,
   "metadata": {},
   "outputs": [],
   "source": [
    "#members\n",
    "#Juan Manuel Jimenez Celis,Ian Cristobal Chona,Camilo Francon Beltran\n",
    "import numpy as np\n",
    "import pandas as pd\n",
    "from numpy import newaxis\n",
    "import matplotlib.pyplot as plt\n",
    "import scipy.stats\n",
    "from matplotlib.backends.backend_pdf import PdfPages"
   ]
  },
  {
   "cell_type": "code",
   "execution_count": 4,
   "metadata": {
    "scrolled": true
   },
   "outputs": [
    {
     "ename": "KeyboardInterrupt",
     "evalue": "Interrupted by user",
     "output_type": "error",
     "traceback": [
      "\u001b[1;31m---------------------------------------------------------------------------\u001b[0m",
      "\u001b[1;31mKeyboardInterrupt\u001b[0m                         Traceback (most recent call last)",
      "\u001b[1;32m<ipython-input-4-c53953d19e0f>\u001b[0m in \u001b[0;36m<module>\u001b[1;34m\u001b[0m\n\u001b[0;32m      1\u001b[0m \u001b[1;31m#Exercise 1.1\u001b[0m\u001b[1;33m\u001b[0m\u001b[1;33m\u001b[0m\u001b[1;33m\u001b[0m\u001b[0m\n\u001b[0;32m      2\u001b[0m \u001b[1;31m#first way\u001b[0m\u001b[1;33m\u001b[0m\u001b[1;33m\u001b[0m\u001b[1;33m\u001b[0m\u001b[0m\n\u001b[1;32m----> 3\u001b[1;33m \u001b[0mn\u001b[0m\u001b[1;33m=\u001b[0m\u001b[0mint\u001b[0m\u001b[1;33m(\u001b[0m\u001b[0minput\u001b[0m\u001b[1;33m(\u001b[0m\u001b[1;34m\"define number of elements\"\u001b[0m\u001b[1;33m)\u001b[0m\u001b[1;33m)\u001b[0m\u001b[1;33m\u001b[0m\u001b[1;33m\u001b[0m\u001b[0m\n\u001b[0m\u001b[0;32m      4\u001b[0m \u001b[0mx0\u001b[0m\u001b[1;33m=\u001b[0m\u001b[0mnp\u001b[0m\u001b[1;33m.\u001b[0m\u001b[0mones\u001b[0m\u001b[1;33m(\u001b[0m\u001b[0mn\u001b[0m\u001b[1;33m,\u001b[0m\u001b[0mdtype\u001b[0m\u001b[1;33m=\u001b[0m\u001b[0mint\u001b[0m\u001b[1;33m)\u001b[0m\u001b[1;33m\u001b[0m\u001b[1;33m\u001b[0m\u001b[0m\n\u001b[0;32m      5\u001b[0m \u001b[0my0\u001b[0m\u001b[1;33m=\u001b[0m\u001b[0mnp\u001b[0m\u001b[1;33m.\u001b[0m\u001b[0marange\u001b[0m\u001b[1;33m(\u001b[0m\u001b[1;36m3\u001b[0m\u001b[1;33m,\u001b[0m\u001b[1;36m3\u001b[0m\u001b[1;33m*\u001b[0m\u001b[0mn\u001b[0m\u001b[1;33m+\u001b[0m\u001b[1;36m3\u001b[0m\u001b[1;33m,\u001b[0m\u001b[1;36m3\u001b[0m\u001b[1;33m)\u001b[0m\u001b[1;33m\u001b[0m\u001b[1;33m\u001b[0m\u001b[0m\n",
      "\u001b[1;32mC:\\ProgramData\\Anaconda3\\lib\\site-packages\\ipykernel\\kernelbase.py\u001b[0m in \u001b[0;36mraw_input\u001b[1;34m(self, prompt)\u001b[0m\n\u001b[0;32m    858\u001b[0m                 \u001b[1;34m\"raw_input was called, but this frontend does not support input requests.\"\u001b[0m\u001b[1;33m\u001b[0m\u001b[1;33m\u001b[0m\u001b[0m\n\u001b[0;32m    859\u001b[0m             )\n\u001b[1;32m--> 860\u001b[1;33m         return self._input_request(str(prompt),\n\u001b[0m\u001b[0;32m    861\u001b[0m             \u001b[0mself\u001b[0m\u001b[1;33m.\u001b[0m\u001b[0m_parent_ident\u001b[0m\u001b[1;33m,\u001b[0m\u001b[1;33m\u001b[0m\u001b[1;33m\u001b[0m\u001b[0m\n\u001b[0;32m    862\u001b[0m             \u001b[0mself\u001b[0m\u001b[1;33m.\u001b[0m\u001b[0m_parent_header\u001b[0m\u001b[1;33m,\u001b[0m\u001b[1;33m\u001b[0m\u001b[1;33m\u001b[0m\u001b[0m\n",
      "\u001b[1;32mC:\\ProgramData\\Anaconda3\\lib\\site-packages\\ipykernel\\kernelbase.py\u001b[0m in \u001b[0;36m_input_request\u001b[1;34m(self, prompt, ident, parent, password)\u001b[0m\n\u001b[0;32m    902\u001b[0m             \u001b[1;32mexcept\u001b[0m \u001b[0mKeyboardInterrupt\u001b[0m\u001b[1;33m:\u001b[0m\u001b[1;33m\u001b[0m\u001b[1;33m\u001b[0m\u001b[0m\n\u001b[0;32m    903\u001b[0m                 \u001b[1;31m# re-raise KeyboardInterrupt, to truncate traceback\u001b[0m\u001b[1;33m\u001b[0m\u001b[1;33m\u001b[0m\u001b[1;33m\u001b[0m\u001b[0m\n\u001b[1;32m--> 904\u001b[1;33m                 \u001b[1;32mraise\u001b[0m \u001b[0mKeyboardInterrupt\u001b[0m\u001b[1;33m(\u001b[0m\u001b[1;34m\"Interrupted by user\"\u001b[0m\u001b[1;33m)\u001b[0m \u001b[1;32mfrom\u001b[0m \u001b[1;32mNone\u001b[0m\u001b[1;33m\u001b[0m\u001b[1;33m\u001b[0m\u001b[0m\n\u001b[0m\u001b[0;32m    905\u001b[0m             \u001b[1;32mexcept\u001b[0m \u001b[0mException\u001b[0m \u001b[1;32mas\u001b[0m \u001b[0me\u001b[0m\u001b[1;33m:\u001b[0m\u001b[1;33m\u001b[0m\u001b[1;33m\u001b[0m\u001b[0m\n\u001b[0;32m    906\u001b[0m                 \u001b[0mself\u001b[0m\u001b[1;33m.\u001b[0m\u001b[0mlog\u001b[0m\u001b[1;33m.\u001b[0m\u001b[0mwarning\u001b[0m\u001b[1;33m(\u001b[0m\u001b[1;34m\"Invalid Message:\"\u001b[0m\u001b[1;33m,\u001b[0m \u001b[0mexc_info\u001b[0m\u001b[1;33m=\u001b[0m\u001b[1;32mTrue\u001b[0m\u001b[1;33m)\u001b[0m\u001b[1;33m\u001b[0m\u001b[1;33m\u001b[0m\u001b[0m\n",
      "\u001b[1;31mKeyboardInterrupt\u001b[0m: Interrupted by user"
     ]
    }
   ],
   "source": [
    "#Exercise 1.1\n",
    "#first way\n",
    "n=int(input(\"define number of elements\"))\n",
    "x0=np.ones(n,dtype=int)\n",
    "y0=np.arange(3,3*n+3,3)\n",
    "print(\"*First way\")\n",
    "print(\"x= \",x0)\n",
    "print(\"y= \",y0)\n",
    "print(\"----------------------------------\")\n",
    "#second way\n",
    "#x0 = np.zeros((1, int(n)))\n",
    "#x0 = x + 1\n",
    "y1=np.linspace(3, n*3, num=n,dtype=int)\n",
    "x1=np.linspace(1,1 ,num=n,dtype=int)\n",
    "print(\"*Second way\")\n",
    "print(\"x= \",x1)\n",
    "print(\"y= \",y1)\n",
    "print(\"----------------------------------\")\n",
    "y2=np.array(15*np.sin(y1),dtype=int)\n",
    "print(\"*f(z)=\")\n",
    "print(y2)\n",
    "print(\"*f(z) greater than 6=\")\n",
    "yg6=y2[y2>6]\n",
    "print(yg6)\n",
    "print( y2[y2<2].size)\n",
    "\n",
    "if y2[y2<2].size==0:\n",
    "    print(\"*All elements are greater than 2\")\n",
    "else: \n",
    "    print(\"*Not all elements are greater than 2,this is the element list less than 2=\")\n",
    "    print(y2[y2<2])\n",
    "    \n",
    "print(\"*There are \",y2[y2==5].size,\" elements equal to 5\")\n"
   ]
  },
  {
   "cell_type": "code",
   "execution_count": null,
   "metadata": {
    "scrolled": true
   },
   "outputs": [],
   "source": [
    "#Exercise 1.2\n",
    "M=np.vstack((y1,y2))\n",
    "print(\"M= \",M)\n",
    "#first way\n",
    "M2=M.T \n",
    "print(\"M2 first way= \")\n",
    "print(M2)\n",
    "#Second way\n",
    "M2=np.column_stack((y1[:,newaxis],y2[:,newaxis]))\n",
    "print(\"M2 second way= \",M2)"
   ]
  },
  {
   "cell_type": "code",
   "execution_count": null,
   "metadata": {
    "scrolled": true
   },
   "outputs": [],
   "source": [
    "#Exercise 1.3\n",
    "print(\"Extend matrix M = \")\n",
    "print(np.vstack((M,x1)))\n",
    "print(\"Extend matrix M2 = \")\n",
    "print(np.column_stack((M2,x1)) )\n"
   ]
  },
  {
   "cell_type": "code",
   "execution_count": null,
   "metadata": {},
   "outputs": [],
   "source": [
    "#Exercise 1.4\n",
    "e=M>5\n",
    "\n",
    "M=M[:,e[0]*e[1]]\n",
    "print(M)\n",
    "print(M.shape)\n"
   ]
  },
  {
   "cell_type": "markdown",
   "metadata": {},
   "source": [
    "## Feedback\n",
    "1-3 están bien. Lo último en 4 me parece raro, no lo entiendo muy bien. Revisa la solución de la muestra.\n",
    "1.75/2"
   ]
  },
  {
   "cell_type": "code",
   "execution_count": null,
   "metadata": {},
   "outputs": [],
   "source": [
    "#Exercise 2.1\n",
    "df1=pd.DataFrame({\"Name\":[\"Alexander\",\"Jane\"],\n",
    "                         \"Age\":[19,36],\"Sex\":[\"male\",\"female\"],\n",
    "                         \"Profession\":[\"student\",\"physician\"]})\n",
    "df2 = pd.DataFrame({'Name':['Eric','Laura'],\n",
    "                    'Age':[22,48],\n",
    "                    'Sex':['male','female'],\n",
    "                    'Profession':['lawyer','teacher']})\n",
    "\n",
    "\n",
    "df3 = pd.DataFrame({'Name':['Peter','Julia'],\n",
    "                    'Age':[31,24],\n",
    "                    'Sex':['male','female'],\n",
    "                    'Profession':['engineer','consultant']})\n",
    "print(df1)\n",
    "print()\n",
    "print(df2)\n",
    "print()\n",
    "print(df3)\n"
   ]
  },
  {
   "cell_type": "code",
   "execution_count": null,
   "metadata": {},
   "outputs": [],
   "source": [
    "#Exercise 2.2\n",
    "uniondf= pd.concat([df1,df2,df3], axis=0)\n",
    "uniondf.reset_index(drop=True, inplace=True)\n",
    "uniondf"
   ]
  },
  {
   "cell_type": "code",
   "execution_count": null,
   "metadata": {},
   "outputs": [],
   "source": [
    "#Exsercise 2.3\n",
    "df4 = pd.DataFrame(data={\"Name\": [\"Alexander\", \"Jane\", \"Eric\", \"Laura\", \"Peter\", \"Julia\"],\n",
    "                         \"Size\": [181, 162, 178, 183, 173, 169],\n",
    "                         \"Salary\": [600, 4200, 4000, 3400, 5200, 3600]})\n",
    "print(df4)\n",
    "print()\n",
    "joindf = pd.merge( uniondf,df4, on='Name')\n",
    "print(joindf)"
   ]
  },
  {
   "cell_type": "code",
   "execution_count": null,
   "metadata": {},
   "outputs": [],
   "source": [
    "#Exercise 2.4\n",
    "joindf['Size'] -=1\n",
    "joindf"
   ]
  },
  {
   "cell_type": "code",
   "execution_count": null,
   "metadata": {},
   "outputs": [],
   "source": [
    "#Exercise 2.5\n",
    "#First way\n",
    "derivateF1 = joindf.loc[joindf[\"Age\"] > 35]\n",
    "print(derivateF1)\n",
    "print()\n",
    "#Second way\n",
    "derivateF2=joindf.query(\"Age>35\")\n",
    "print(derivateF2)\n",
    "#Exersice 2.6\n",
    "joindf.sort_values(by=[\"Salary\"], ascending=True)\n",
    "joindf"
   ]
  },
  {
   "cell_type": "code",
   "execution_count": null,
   "metadata": {},
   "outputs": [],
   "source": [
    "#Exersice 2.7\n",
    "groupsBySex = joindf.groupby(['Sex'])\n",
    "groupsBySex.get_group('female') \n",
    "groupsBySex.get_group('male') \n",
    "\n",
    "for sex, group in groupsBySex:\n",
    "    print(\"Group Sex: \", sex)\n",
    "    print(group)"
   ]
  },
  {
   "cell_type": "markdown",
   "metadata": {},
   "source": [
    "## Feedback\n",
    "Todo bien: 2/2"
   ]
  },
  {
   "cell_type": "code",
   "execution_count": 5,
   "metadata": {},
   "outputs": [
    {
     "data": {
      "image/png": "[encoded data removed]",
      "text/plain": [
       "<Figure size 432x288 with 1 Axes>"
      ]
     },
     "metadata": {
      "needs_background": "light"
     },
     "output_type": "display_data"
    },
    {
     "name": "stdout",
     "output_type": "stream",
     "text": [
      "     sepal_length  sepal_width  petal_length  petal_width    species\n",
      "0             5.1          3.5           1.4          0.2     setosa\n",
      "1             4.9          3.0           1.4          0.2     setosa\n",
      "2             4.7          3.2           1.3          0.2     setosa\n",
      "3             4.6          3.1           1.5          0.2     setosa\n",
      "4             5.0          3.6           1.4          0.2     setosa\n",
      "..            ...          ...           ...          ...        ...\n",
      "145           6.7          3.0           5.2          2.3  virginica\n",
      "146           6.3          2.5           5.0          1.9  virginica\n",
      "147           6.5          3.0           5.2          2.0  virginica\n",
      "148           6.2          3.4           5.4          2.3  virginica\n",
      "149           5.9          3.0           5.1          1.8  virginica\n",
      "\n",
      "[150 rows x 5 columns]\n"
     ]
    },
    {
     "data": {
      "image/png": "[encoded data removed]",
      "text/plain": [
       "<Figure size 432x288 with 1 Axes>"
      ]
     },
     "metadata": {
      "needs_background": "light"
     },
     "output_type": "display_data"
    }
   ],
   "source": [
    "#Exersice 3.1, 3.2 , 3.3 , 3.4\n",
    "\n",
    "irisset = pd.read_csv(\"iris.csv\")\n",
    "pd.read_csv('https://raw.githubusercontent.com/uiuc-cse/data-fa14/gh-pages/data/iris.csv')\n",
    "pp = PdfPages('ResumePlots.pdf')\n",
    "fig, ax = plt.subplots()\n",
    "ax.scatter(irisset.loc[irisset[\"species\"]==\"setosa\",\"sepal_length\"],irisset.loc[irisset[\"species\"]==\"setosa\",\"sepal_width\"], c = 'blue', label=\"Setosas\")\n",
    "ax.scatter(irisset.loc[irisset[\"species\"]==\"versicolor\",\"sepal_length\"],irisset.loc[irisset[\"species\"]==\"versicolor\",\"sepal_width\"], c = 'red', label=\"Versicolor\")\n",
    "ax.scatter(irisset.loc[irisset[\"species\"]==\"virginica\",\"sepal_length\"],irisset.loc[irisset[\"species\"]==\"virginica\",\"sepal_width\"], c = 'green', label=\"Virgina\")\n",
    "plt.xlabel(\"Sepal Length\")\n",
    "plt.ylabel(\"Sepal Width\")\n",
    "plt.legend()\n",
    "plt.savefig(pp, format='pdf')\n",
    "plt.show()\n",
    "print(irisset)\n",
    "boxplot=irisset.boxplot()\n",
    "pp.savefig()\n",
    "pp.close()\n",
    "\n"
   ]
  },
  {
   "cell_type": "markdown",
   "metadata": {},
   "source": [
    "## Feedback\n",
    "Todo bien: 2/2"
   ]
  },
  {
   "cell_type": "code",
   "execution_count": null,
   "metadata": {},
   "outputs": [],
   "source": [
    "#Exersice 4.1\n",
    "iris = pd.read_csv(\"iris.csv\")\n",
    "def getParams(D,att):\n",
    "     return [D[att].mean(),D[att].std()]\n",
    "\n",
    "tuple1=np.array(getParams(iris,\"sepal_width\"))\n",
    "print(tuple1)\n",
    "iris\n",
    "    "
   ]
  },
  {
   "cell_type": "code",
   "execution_count": null,
   "metadata": {},
   "outputs": [],
   "source": [
    "#Exersice 4.2\n",
    "def plotTruepoints(D,att):    \n",
    "    freclist=D[att].value_counts()\n",
    "    for j in freclist.index:\n",
    "        for i in range(freclist[j]):\n",
    "            plt.scatter(j,i/freclist.max(),color=\"green\")\n",
    "def normalOverlay(D,att):\n",
    "    plt.clf()\n",
    "    stadistics=getParams(D,att)\n",
    "    x = np.linspace(stadistics[0] - 3*stadistics[1], stadistics[0] + 3*stadistics[1],100)\n",
    "    y=scipy.stats.norm.pdf(x, stadistics[0], stadistics[1])\n",
    "    plt.plot(x,y,color=\"blue\",zorder=0) \n",
    "    plotTruepoints(D,att)    \n",
    "    plt.show()    \n",
    "    \n",
    "normalOverlay(iris,\"sepal_width\")\n",
    "\n",
    "def uniformOverlay(D,att):\n",
    "    plt.clf()\n",
    "    a = D[att].min()\n",
    "    b = D[att].max()    \n",
    "    x = np.linspace(a-1, b+1, 1000)\n",
    "    y = 1/(b-a)\n",
    "    density = np.zeros(1000)\n",
    "    density[(x <= b) & (x >= a)] = y\n",
    "    plt.plot(x, density, c='blue')\n",
    "    plotTruepoints(D,att)    \n",
    "    plt.show()\n",
    "    \n",
    "uniformOverlay(iris,\"sepal_width\")\n",
    "\n"
   ]
  },
  {
   "cell_type": "code",
   "execution_count": null,
   "metadata": {},
   "outputs": [],
   "source": [
    "#Exersice 4.3\n",
    "       \n",
    "def normalOverlay2(D, att, ax=None):    \n",
    "    stadistics=getParams(D,att)\n",
    "    x = np.linspace(stadistics[0] - 3*stadistics[1], stadistics[0] + 3*stadistics[1],100)\n",
    "    y= scipy.stats.norm.pdf(x, stadistics[0], stadistics[1])\n",
    "    freclist=D[att].value_counts()\n",
    "    if ax is not None:\n",
    "        ax.plot(x, y, c='blue')\n",
    "        for j in freclist.index:\n",
    "            for i in range(freclist[j]):\n",
    "                ax.scatter(j,i/freclist.max(),color=\"green\")           \n",
    "    \n",
    "def uniformOverlay2(D, att, ax=None):    \n",
    "    a = D[att].min()\n",
    "    b = D[att].max()    \n",
    "    x = np.linspace(a-1, b+1, 1000)\n",
    "    y = 1/(b-a)\n",
    "    density = np.zeros(1000)\n",
    "    density[(x <= b) & (x >= a)] = y\n",
    "    freclist=D[att].value_counts()\n",
    "    if ax is not None:\n",
    "        ax.plot(x, density, c='blue')\n",
    "        for j in freclist.index:\n",
    "            for i in range(freclist[j]):\n",
    "                ax.scatter(j,i/freclist.max(),color=\"green\")\n",
    "fig, ((ax1, ax2), (ax3, ax4), (ax5, ax6), (ax7, ax8)) = plt.subplots(4, 2, sharex=True, sharey=True)\n",
    "normalOverlay2(iris, \"sepal_length\", ax1)\n",
    "uniformOverlay2(iris, \"sepal_length\", ax2)\n",
    "normalOverlay2(iris, \"sepal_width\", ax3)\n",
    "uniformOverlay2(iris, \"sepal_width\", ax4)\n",
    "normalOverlay2(iris, \"petal_length\", ax5)\n",
    "uniformOverlay2(iris, \"petal_length\", ax6)\n",
    "normalOverlay2(iris, \"petal_width\", ax7)\n",
    "uniformOverlay2(iris, \"petal_width\", ax8)\n",
    "plt.show()\n",
    "\n",
    "    "
   ]
  },
  {
   "cell_type": "code",
   "execution_count": null,
   "metadata": {},
   "outputs": [],
   "source": [
    "normalOverlay(iris,\"petal_width\")"
   ]
  },
  {
   "cell_type": "code",
   "execution_count": null,
   "metadata": {},
   "outputs": [],
   "source": [
    "#Excersice 4.4\n",
    "#Solo existe un caso en el que la funcion de probabilidad se asemeja a la \n",
    "#probabilidad real, para la funcion normal de sepal width fila 2 columna 1, \n",
    "#en los otros existen casos donde la distribucion no se asemeja a ninguna\n",
    "#distribucion, esto puede suceder por lo siguiente,o bien se necesitan muchas\n",
    "#mas muestras para acertar en una distribucion de probabilidad, o no se tomaron\n",
    "#las distribuciones adecuadas, por ejemplo las distribuciones de la fila 3, \n",
    "#parecieran seguir una distribucion logaritmica.Tambien algunas parecieran ser\n",
    "#distribuciones normales pero no encajan con la curva generada, por ejemplo \n",
    "#las distribuciones de la priemra fila"
   ]
  },
  {
   "cell_type": "markdown",
   "metadata": {},
   "source": [
    "## Feedback\n",
    "Me parece bien la solución (aunque no lo más eficaz) y la discusión.\n",
    "\n",
    "2/2\n",
    "\n",
    "Total: 1.75 + 2 + 2+ 2 = 7.75/8"
   ]
  },
  {
   "cell_type": "code",
   "execution_count": null,
   "metadata": {},
   "outputs": [],
   "source": []
  }
 ],
 "metadata": {
  "kernelspec": {
   "display_name": "Python 3",
   "language": "python",
   "name": "python3"
  },
  "language_info": {
   "codemirror_mode": {
    "name": "ipython",
    "version": 3
   },
   "file_extension": ".py",
   "mimetype": "text/x-python",
   "name": "python",
   "nbconvert_exporter": "python",
   "pygments_lexer": "ipython3",
   "version": "3.8.3"
  }
 },
 "nbformat": 4,
 "nbformat_minor": 2
}
