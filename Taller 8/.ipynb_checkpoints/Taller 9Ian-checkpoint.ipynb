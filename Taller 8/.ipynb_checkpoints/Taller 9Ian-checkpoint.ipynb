{
 "cells": [
  {
   "cell_type": "code",
   "execution_count": 50,
   "metadata": {},
   "outputs": [],
   "source": [
    "import numpy as np\n",
    "import template as tmp\n",
    "import itertools as itr"
   ]
  },
  {
   "cell_type": "markdown",
   "metadata": {},
   "source": [
    "Integrantes:\n",
    "    - Juan Manuel Jimenez\n",
    "    - Ian Chona Ramírez\n",
    "    - Camilo Andres Franco"
   ]
  },
  {
   "cell_type": "markdown",
   "metadata": {},
   "source": [
    "1. Write functions sup(D,X,Y=None), conf(D,X,Y), lift(D,X,Y=None), leverage(D,X,Y),\n",
    "jaccard(D,X,Y), conviction(D,X,Y), oddsRatio(D,X,Y), imp(D,X,Y) that compute\n",
    "for any rule X −→ Y the respective metric given the dataset D, where D is a list\n",
    "of lists of item IDs. Note that, for the support and lift, the conclusion is optional.\n",
    "This is to allow the calculation of support and lift of patterns (itemsets). Add a\n",
    "function getRuleMetric(D,X,Y,metric) that computes the metric metric (given as a\n",
    "string name in {sup, conf , lift, leverage, jaccard, conviction, oddsratio, imp}) for the rule\n",
    "X −→ Y in the data D.\n"
   ]
  },
  {
   "cell_type": "code",
   "execution_count": 51,
   "metadata": {},
   "outputs": [],
   "source": [
    "shopData = tmp.readTransactionalDatabase('shop.dat')"
   ]
  },
  {
   "cell_type": "code",
   "execution_count": 52,
   "metadata": {},
   "outputs": [],
   "source": [
    "def sup(D, X, Y=None):\n",
    "    support = 0\n",
    "    for transaction in D:\n",
    "        hasPremise = False\n",
    "        hasConclusion = False\n",
    "        for itemSet in transaction:\n",
    "            if itemSet == X:\n",
    "                hasPremise = True\n",
    "            if Y is not None:\n",
    "                if itemSet == Y:\n",
    "                    hasConclusion = True\n",
    "        if Y is not None:\n",
    "            if hasPremise and hasConclusion:\n",
    "                support += 1\n",
    "        else:\n",
    "            if hasPremise:\n",
    "                support += 1 \n",
    "    return support\n",
    "\n",
    "# support = sup(shopData[0:100], 25, 52)\n",
    "# print(support)"
   ]
  },
  {
   "cell_type": "code",
   "execution_count": 53,
   "metadata": {},
   "outputs": [],
   "source": [
    "def conf(D, X, Y):\n",
    "    if sup(D, X, None) == 0:\n",
    "        return 0;\n",
    "    return sup(D, X, Y)/sup(D, X, None)"
   ]
  },
  {
   "cell_type": "code",
   "execution_count": 54,
   "metadata": {},
   "outputs": [],
   "source": [
    "def lift(D, X, Y):\n",
    "    return conf(D, X, Y)/(sup(D, Y, None)/len(D))"
   ]
  },
  {
   "cell_type": "code",
   "execution_count": 55,
   "metadata": {},
   "outputs": [],
   "source": [
    "def leverage(D, X, Y):\n",
    "    return (sup(D, X, Y)/len(D)) - (sup(D, X, None)/len(D)) - (sup(D, Y, None)/len(D))"
   ]
  },
  {
   "cell_type": "code",
   "execution_count": 56,
   "metadata": {},
   "outputs": [],
   "source": [
    "def jaccard(D, X, Y):\n",
    "    return (sup(D, X, Y)/len(D)) / ((sup(D, X, None)/len(D)) + (sup(D, Y, None)/len(D)) - (sup(D, X, Y)/len(D)))"
   ]
  },
  {
   "cell_type": "code",
   "execution_count": 57,
   "metadata": {},
   "outputs": [],
   "source": [
    "def conviction(D, X, Y):\n",
    "    sup_X = sup(D, X, None)\n",
    "    rsup_Y_comp = (len(D) - sup(D, Y, None))/len(D)\n",
    "    \n",
    "    sup_X_Y = sup(D, X, Y)\n",
    "    \n",
    "    sup_X_Y_comp = sup_X - sup_X_Y\n",
    "    \n",
    "    if sup_X == 0:\n",
    "        return 1\n",
    "    conf = sup_X_Y_comp/sup_X\n",
    "    \n",
    "    if rsup_Y_comp == 0:\n",
    "        return np.inf\n",
    "    \n",
    "    return conf/rsup_Y_comp"
   ]
  },
  {
   "cell_type": "code",
   "execution_count": 58,
   "metadata": {},
   "outputs": [],
   "source": [
    "def oddsRatio(D, X, Y):\n",
    "    sup_X_Y = sup(D, X, Y)\n",
    "    \n",
    "    sup_X = sup(D, X, None)\n",
    "    sup_X_Y_comp = sup_X - sup_X_Y\n",
    "    \n",
    "    sup_Y = sup(D, Y, None)\n",
    "    sup_X_comp_Y = sup_Y - sup_X_Y\n",
    "    \n",
    "    sup_Y_comp = len(D) - sup(D, Y, None)\n",
    "    sup_X_comp_Y_comp = sup_Y_comp - sup_X_Y_comp\n",
    "    \n",
    "    if (sup_X_Y_comp*sup_X_comp_Y) == 0:\n",
    "        return np.inf\n",
    "    return (sup_X_Y*sup_X_comp_Y_comp)/(sup_X_Y_comp*sup_X_comp_Y)"
   ]
  },
  {
   "cell_type": "code",
   "execution_count": 59,
   "metadata": {
    "scrolled": true
   },
   "outputs": [],
   "source": [
    "def imp(D, X, Y):\n",
    "    conf_X_Y = conf(D, X, Y)\n",
    "    \n",
    "    n_digits = len(str(X))\n",
    "    digits_X = [d for d in str(X)]\n",
    "    \n",
    "    maxItem = 0\n",
    "    maxConf = 0\n",
    "    for k in range(1,n_digits):\n",
    "        for i in itr.combinations(digits_X,k):\n",
    "            itemSet = ''.join(i)\n",
    "            conf_item = conf(D, int(itemSet), Y)\n",
    "            if conf_item > maxConf:\n",
    "                maxItem = int(itemSet)\n",
    "                maxConf = conf_item\n",
    "    return conf_X_Y - maxConf"
   ]
  },
  {
   "cell_type": "code",
   "execution_count": 60,
   "metadata": {},
   "outputs": [
    {
     "name": "stdout",
     "output_type": "stream",
     "text": [
      "Support:  439\n",
      "Confidence:  0.3146953405017921\n",
      "Lift:  15.86965912767484\n",
      "Leverage:  -0.02939\n",
      "Jaccard:  0.1493705341953045\n",
      "Conviction:  0.6991691844253628\n",
      "OddsRatio:  28.867162263966875\n",
      "Improvement:  0.1958246124185826\n"
     ]
    }
   ],
   "source": [
    "def getRuleMetric(D, X, Y, metric):\n",
    "    ruleMetrics = {\n",
    "        \"sup\": sup(D, X, Y),\n",
    "        \"conf\": conf(D, X, Y),\n",
    "        \"lift\": lift(D, X, Y),\n",
    "        \"leverage\": leverage(D, X, Y),\n",
    "        \"jaccard\": jaccard(D, X, Y),\n",
    "        \"conviction\": conviction(D, X, Y),\n",
    "        \"oddsratio\": oddsRatio(D, X, Y),\n",
    "        \"imp\": imp(D, X, Y),\n",
    "    }\n",
    "    return ruleMetrics.get(metric, 'Invalid metric')\n",
    "\n",
    "#\"sup, conf , lift, leverage, jaccard, conviction, oddsratio, imp\"\n",
    "premise = 25\n",
    "conclusion = 52\n",
    "\n",
    "print('Support: ', str(getRuleMetric(shopData, premise, conclusion, \"sup\")))\n",
    "print('Confidence: ', str(getRuleMetric(shopData, premise, conclusion, \"conf\")))\n",
    "print('Lift: ', str(getRuleMetric(shopData, premise, conclusion, \"lift\")))\n",
    "print('Leverage: ', str(getRuleMetric(shopData, premise, conclusion, \"leverage\")))\n",
    "print('Jaccard: ', str(getRuleMetric(shopData, premise, conclusion, \"jaccard\")))\n",
    "print('Conviction: ', str(getRuleMetric(shopData, premise, conclusion, \"conviction\")))\n",
    "print('OddsRatio: ', str(getRuleMetric(shopData, premise, conclusion, \"oddsratio\")))\n",
    "print('Improvement: ', str(getRuleMetric(shopData, premise, conclusion, \"imp\")))"
   ]
  },
  {
   "cell_type": "code",
   "execution_count": null,
   "metadata": {},
   "outputs": [],
   "source": []
  }
 ],
 "metadata": {
  "kernelspec": {
   "display_name": "Python 3",
   "language": "python",
   "name": "python3"
  },
  "language_info": {
   "codemirror_mode": {
    "name": "ipython",
    "version": 3
   },
   "file_extension": ".py",
   "mimetype": "text/x-python",
   "name": "python",
   "nbconvert_exporter": "python",
   "pygments_lexer": "ipython3",
   "version": "3.6.4"
  }
 },
 "nbformat": 4,
 "nbformat_minor": 2
}
