{
 "cells": [
  {
   "cell_type": "code",
   "execution_count": 1,
   "metadata": {},
   "outputs": [],
   "source": [
    "import numpy as np\n",
    "import pandas as pd\n",
    "from template import *\n",
    "from collections import Counter\n",
    "from itertools import combinations"
   ]
  },
  {
   "cell_type": "code",
   "execution_count": null,
   "metadata": {},
   "outputs": [],
   "source": [
    "original=[[1, 2], [1, 3], [1, 4], [1, 5], [2, 3], [2, 4], [2, 5], [3, 4], [3, 5], [4, 5]]"
   ]
  },
  {
   "cell_type": "code",
   "execution_count": 1,
   "metadata": {},
   "outputs": [
    {
     "name": "stdout",
     "output_type": "stream",
     "text": [
      "[1, 2] [1, 5]\n",
      "[2, 3] [2, 4]\n",
      "[2, 3] [2, 5]\n",
      "[2, 4] [2, 5]\n",
      "[[1, 2], [1, 5], [2, 3], [2, 4], [2, 5], [4, 5]]\n"
     ]
    },
    {
     "data": {
      "text/plain": [
       "[[1, 2], [1, 5], [2, 3], [2, 4], [2, 5], [4, 5]]"
      ]
     },
     "execution_count": 1,
     "metadata": {},
     "output_type": "execute_result"
    }
   ],
   "source": [
    "a=[[1],[2],[3],[4],[5]]\n",
    "b=[[1, 2], [1, 5], [2, 3], [2, 4], [2, 5], [4, 5]]\n",
    "#b=[[1, 2,3], [1,2,4],[1,2,5], [2, 3,5], [2, 4,5], [2, 5,3], [4, 5,6]]\n",
    "c=list(set([x for l in b for x in l]))\n",
    "\n",
    "def aprioriSons(c):\n",
    "    d=c.copy()\n",
    "    a=1\n",
    "    k=1\n",
    "    for itemset in c:\n",
    "        for j in range(a,len(d)):\n",
    "            brothers=True\n",
    "            for l in range(k):\n",
    "                if itemset[l]!=d[j][l]:\n",
    "                    brothers=False\n",
    "            if brothers:\n",
    "                \n",
    "                print(itemset,d[j])\n",
    "                \n",
    "        a+=1\n",
    "    print(d)\n",
    "    return d\n",
    "aprioriSons(b)    \n",
    "#c=[[1,2,5],[2,3,4],[2,3,5]]"
   ]
  },
  {
   "cell_type": "code",
   "execution_count": 54,
   "metadata": {},
   "outputs": [
    {
     "name": "stdout",
     "output_type": "stream",
     "text": [
      "[1 2 3 4 5]\n",
      "(1, 2) 0\n",
      "(1, 3) 1\n",
      "(1, 4) 2\n",
      "(1, 5) 3\n",
      "(2, 3) 4\n",
      "(2, 4) 5\n",
      "(2, 5) 6\n",
      "(3, 4) 7\n",
      "(3, 5) 8\n",
      "(4, 5) 9\n",
      "[[1 2]\n",
      " [1 3]\n",
      " [1 4]\n",
      " [1 5]\n",
      " [2 3]\n",
      " [2 4]\n",
      " [2 5]\n",
      " [3 4]\n",
      " [3 5]\n",
      " [4 5]]\n",
      "True\n",
      "True\n",
      "True\n",
      "True\n",
      "True\n",
      "True\n",
      "True\n",
      "True\n",
      "True\n",
      "True\n",
      "True\n",
      "True\n",
      "True\n",
      "True\n",
      "True\n",
      "True\n",
      "True\n",
      "True\n",
      "True\n",
      "True\n",
      "True\n",
      "True\n",
      "True\n",
      "True\n",
      "True\n",
      "True\n",
      "True\n",
      "True\n",
      "True\n",
      "True\n"
     ]
    }
   ],
   "source": [
    "db=readTransactionalDatabase(\"exampleset.dat\")\n",
    "items=set([x for l in db for x in l])\n",
    "items=np.array(list(items))\n",
    "print(items)\n",
    "Ck=[]\n",
    "for i,combo in enumerate(combinations(items,2)):\n",
    "    newCk.append(combo)\n",
    "    print(combo,i)\n",
    "newCk=np.array(newCk)    \n",
    "\n",
    "\n",
    "newCk2=[]\n",
    "\n",
    "for i in newCk:\n",
    "    brothers=newCk[np.where(newCk[:,0]==i[0])]\n",
    "    for j in brothers:\n",
    "        if j[1]>i[1]:\n",
    "            newCk2.append(np.unique(np.concatenate((j,i),0)))\n",
    "newCk2=np.array(newCk2)\n",
    "print(newCk)\n",
    "for i in newCk2:\n",
    "    for combo in combinations(i,2):\n",
    "        print(combo in newCk)"
   ]
  },
  {
   "cell_type": "code",
   "execution_count": null,
   "metadata": {},
   "outputs": [],
   "source": [
    "db=readTransactionalDatabase(\"exampleset.dat\")\n",
    "items=set([x for l in db for x in l])\n",
    "items=np.array(list(items))\n",
    "print(items)\n",
    "k=1\n",
    "Ck=[]\n",
    "for i,combo in enumerate(combinations(items,2)):\n",
    "    Ck.append(combo)    \n",
    "Ck=np.array(Ck)  \n",
    "while k<4:\n",
    "    newCk=[]\n",
    "    for i in Ck:\n",
    "        brothers=Ck[np.where(Ck[:,0]==i[0])]\n",
    "        for j in brothers:\n",
    "            if j[k]>i[k]:\n",
    "                newCk.append(np.unique(np.concatenate((j,i),0)))\n",
    "    newCk=np.array(newCk)\n",
    "    print(newCk)   \n",
    "    k+=1\n",
    "    "
   ]
  }
 ],
 "metadata": {
  "kernelspec": {
   "display_name": "Python 3",
   "language": "python",
   "name": "python3"
  },
  "language_info": {
   "codemirror_mode": {
    "name": "ipython",
    "version": 3
   },
   "file_extension": ".py",
   "mimetype": "text/x-python",
   "name": "python",
   "nbconvert_exporter": "python",
   "pygments_lexer": "ipython3",
   "version": "3.8.3"
  }
 },
 "nbformat": 4,
 "nbformat_minor": 4
}
