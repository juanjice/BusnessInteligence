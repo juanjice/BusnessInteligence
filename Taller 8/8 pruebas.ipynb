{
 "cells": [
  {
   "cell_type": "code",
   "execution_count": 1,
   "metadata": {},
   "outputs": [],
   "source": [
    "import numpy as np\n",
    "import pandas as pd\n",
    "from template import *\n",
    "from collections import Counter\n",
    "from itertools import combinations"
   ]
  },
  {
   "cell_type": "code",
   "execution_count": null,
   "metadata": {},
   "outputs": [],
   "source": [
    "original=[[1, 2], [1, 3], [1, 4], [1, 5], [2, 3], [2, 4], [2, 5], [3, 4], [3, 5], [4, 5]]"
   ]
  },
  {
   "cell_type": "code",
   "execution_count": 1,
   "metadata": {},
   "outputs": [
    {
     "name": "stdout",
     "output_type": "stream",
     "text": [
      "[1, 2] [1, 5]\n",
      "[2, 3] [2, 4]\n",
      "[2, 3] [2, 5]\n",
      "[2, 4] [2, 5]\n",
      "[[1, 2], [1, 5], [2, 3], [2, 4], [2, 5], [4, 5]]\n"
     ]
    },
    {
     "data": {
      "text/plain": [
       "[[1, 2], [1, 5], [2, 3], [2, 4], [2, 5], [4, 5]]"
      ]
     },
     "execution_count": 1,
     "metadata": {},
     "output_type": "execute_result"
    }
   ],
   "source": [
    "a=[[1],[2],[3],[4],[5]]\n",
    "b=[[1, 2], [1, 5], [2, 3], [2, 4], [2, 5], [4, 5]]\n",
    "#b=[[1, 2,3], [1,2,4],[1,2,5], [2, 3,5], [2, 4,5], [2, 5,3], [4, 5,6]]\n",
    "c=list(set([x for l in b for x in l]))\n",
    "\n",
    "def aprioriSons(c):\n",
    "    d=c.copy()\n",
    "    a=1\n",
    "    k=1\n",
    "    for itemset in c:\n",
    "        for j in range(a,len(d)):\n",
    "            brothers=True\n",
    "            for l in range(k):\n",
    "                if itemset[l]!=d[j][l]:\n",
    "                    brothers=False\n",
    "            if brothers:\n",
    "                \n",
    "                print(itemset,d[j])\n",
    "                \n",
    "        a+=1\n",
    "    print(d)\n",
    "    return d\n",
    "aprioriSons(b)    \n",
    "#c=[[1,2,5],[2,3,4],[2,3,5]]"
   ]
  },
  {
   "cell_type": "code",
   "execution_count": 54,
   "metadata": {},
   "outputs": [
    {
     "name": "stdout",
     "output_type": "stream",
     "text": [
      "[1 2 3 4 5]\n",
      "(1, 2) 0\n",
      "(1, 3) 1\n",
      "(1, 4) 2\n",
      "(1, 5) 3\n",
      "(2, 3) 4\n",
      "(2, 4) 5\n",
      "(2, 5) 6\n",
      "(3, 4) 7\n",
      "(3, 5) 8\n",
      "(4, 5) 9\n",
      "[[1 2]\n",
      " [1 3]\n",
      " [1 4]\n",
      " [1 5]\n",
      " [2 3]\n",
      " [2 4]\n",
      " [2 5]\n",
      " [3 4]\n",
      " [3 5]\n",
      " [4 5]]\n",
      "True\n",
      "True\n",
      "True\n",
      "True\n",
      "True\n",
      "True\n",
      "True\n",
      "True\n",
      "True\n",
      "True\n",
      "True\n",
      "True\n",
      "True\n",
      "True\n",
      "True\n",
      "True\n",
      "True\n",
      "True\n",
      "True\n",
      "True\n",
      "True\n",
      "True\n",
      "True\n",
      "True\n",
      "True\n",
      "True\n",
      "True\n",
      "True\n",
      "True\n",
      "True\n"
     ]
    }
   ],
   "source": [
    "db=readTransactionalDatabase(\"exampleset.dat\")\n",
    "items=set([x for l in db for x in l])\n",
    "items=np.array(list(items))\n",
    "print(items)\n",
    "Ck=[]\n",
    "for i,combo in enumerate(combinations(items,2)):\n",
    "    newCk.append(combo)\n",
    "    print(combo,i)\n",
    "newCk=np.array(newCk)    \n",
    "\n",
    "\n",
    "newCk2=[]\n",
    "\n",
    "for i in newCk:\n",
    "    brothers=newCk[np.where(newCk[:,0]==i[0])]\n",
    "    for j in brothers:\n",
    "        if j[1]>i[1]:\n",
    "            newCk2.append(np.unique(np.concatenate((j,i),0)))\n",
    "newCk2=np.array(newCk2)\n",
    "print(newCk)\n",
    "for i in newCk2:\n",
    "    for combo in combinations(i,2):\n",
    "        print(combo in newCk)"
   ]
  },
  {
   "cell_type": "code",
   "execution_count": 107,
   "metadata": {},
   "outputs": [
    {
     "name": "stdout",
     "output_type": "stream",
     "text": [
      "[1 2 3 4 5]\n",
      "[[1 2]\n",
      " [1 3]\n",
      " [1 4]\n",
      " [1 5]\n",
      " [2 3]\n",
      " [2 4]\n",
      " [2 5]\n",
      " [3 4]\n",
      " [3 5]\n",
      " [4 5]] -k: 1\n",
      "[[1 2 3]\n",
      " [1 2 4]\n",
      " [1 2 5]\n",
      " [1 3 4]\n",
      " [1 3 5]\n",
      " [1 4 5]\n",
      " [2 3 4]\n",
      " [2 3 5]\n",
      " [2 4 5]\n",
      " [3 4 5]] -k: 2\n",
      "[[1 2 3 4]\n",
      " [1 2 3 5]\n",
      " [1 2 4 5]\n",
      " [1 3 4 5]\n",
      " [2 3 4 5]] -k: 3\n",
      "[[1 2 3 4 5]] -k: 4\n",
      "[] -k: 5\n"
     ]
    }
   ],
   "source": [
    "db=readTransactionalDatabase(\"exampleset.dat\")\n",
    "\n",
    "    "
   ]
  },
  {
   "cell_type": "code",
   "execution_count": 95,
   "metadata": {},
   "outputs": [
    {
     "name": "stdout",
     "output_type": "stream",
     "text": [
      "[[1 2 3 4]\n",
      " [1 2 3 5]\n",
      " [1 2 3 6]]\n"
     ]
    }
   ],
   "source": [
    "a=np.array([[1,2,3,4],[1,2,3,5],[1,2,3,6],[1,4,3,5],[2,3,3,2],[2,3,6,5]])\n",
    "k=3\n",
    "print(a[np.all(a[:,np.arange(k)]==a[0,0:k],axis=1),:])\n"
   ]
  },
  {
   "cell_type": "code",
   "execution_count": 133,
   "metadata": {},
   "outputs": [
    {
     "name": "stdout",
     "output_type": "stream",
     "text": [
      "[5 6 7 8 9]\n",
      "[[7 8]\n",
      " [1 1]]\n"
     ]
    }
   ],
   "source": [
    "arr = np.arange(5,10)\n",
    "arr2=np.array([[1,2],[3,4],[5,6],[7,8],[1,1]])\n",
    "print(arr2)\n",
    "np.delete(arr2, np.where(arr<8), 0)\n",
    "print()"
   ]
  },
  {
   "cell_type": "code",
   "execution_count": 136,
   "metadata": {},
   "outputs": [
    {
     "name": "stdout",
     "output_type": "stream",
     "text": [
      "(1, 2, 4)\n",
      "(1, 2, 5)\n",
      "(1, 4, 5)\n",
      "(2, 4, 5)\n"
     ]
    }
   ],
   "source": [
    "for combo in combinations([1,2,4,5],3):\n",
    "    print(combo)"
   ]
  },
  {
   "cell_type": "code",
   "execution_count": 159,
   "metadata": {},
   "outputs": [
    {
     "name": "stdout",
     "output_type": "stream",
     "text": [
      "False\n"
     ]
    }
   ],
   "source": [
    "arr=np.array([ [1, 2],[1, 4],[1, 5], [2 ,3], [2 ,4], [2 ,5], [3 ,5], [4 ,5]])\n",
    "\n",
    "b=np.isin(arr, (3,4))\n",
    "print(np.any(b[:,0]* b[:,1]))"
   ]
  },
  {
   "cell_type": "code",
   "execution_count": 179,
   "metadata": {},
   "outputs": [
    {
     "name": "stdout",
     "output_type": "stream",
     "text": [
      "[[1 3]\n",
      " [1 2]\n",
      " [1 2]\n",
      " [1 4]\n",
      " [1 5]\n",
      " [2 3]\n",
      " [2 4]\n",
      " [2 5]\n",
      " [3 5]\n",
      " [4 5]]\n"
     ]
    },
    {
     "data": {
      "text/plain": [
       "True"
      ]
     },
     "execution_count": 179,
     "metadata": {},
     "output_type": "execute_result"
    }
   ],
   "source": [
    "\n",
    "arr=np.array([ [1,3],[1,2],[1, 2],[1, 4],[1, 5], [2 ,3], [2 ,4], [2 ,5], [3 ,5], [4 ,5]])\n",
    "print(arr)\n",
    "any(np.all(row == [1,2]) for row in arr)"
   ]
  },
  {
   "cell_type": "code",
   "execution_count": 1,
   "metadata": {},
   "outputs": [
    {
     "ename": "NameError",
     "evalue": "name 'readTransactionalDatabase' is not defined",
     "output_type": "error",
     "traceback": [
      "\u001b[1;31m---------------------------------------------------------------------------\u001b[0m",
      "\u001b[1;31mNameError\u001b[0m                                 Traceback (most recent call last)",
      "\u001b[1;32m<ipython-input-1-52ca0ac58977>\u001b[0m in \u001b[0;36m<module>\u001b[1;34m\u001b[0m\n\u001b[0;32m      1\u001b[0m \u001b[1;32mimport\u001b[0m \u001b[0mcollections\u001b[0m\u001b[1;33m\u001b[0m\u001b[1;33m\u001b[0m\u001b[0m\n\u001b[0;32m      2\u001b[0m \u001b[1;32mfrom\u001b[0m \u001b[0mtime\u001b[0m \u001b[1;32mimport\u001b[0m \u001b[0mtime\u001b[0m\u001b[1;33m\u001b[0m\u001b[1;33m\u001b[0m\u001b[0m\n\u001b[1;32m----> 3\u001b[1;33m \u001b[0marr\u001b[0m \u001b[1;33m=\u001b[0m \u001b[0mreadTransactionalDatabase\u001b[0m\u001b[1;33m(\u001b[0m\u001b[1;34m\"original.dat\"\u001b[0m\u001b[1;33m)\u001b[0m\u001b[1;33m\u001b[0m\u001b[1;33m\u001b[0m\u001b[0m\n\u001b[0m\u001b[0;32m      4\u001b[0m \u001b[0my\u001b[0m\u001b[1;33m=\u001b[0m\u001b[0mpd\u001b[0m\u001b[1;33m.\u001b[0m\u001b[0mDataFrame\u001b[0m\u001b[1;33m(\u001b[0m\u001b[0marr\u001b[0m\u001b[1;33m,\u001b[0m\u001b[0mdtype\u001b[0m\u001b[1;33m=\u001b[0m\u001b[0mint\u001b[0m\u001b[1;33m)\u001b[0m\u001b[1;33m.\u001b[0m\u001b[0mvalues\u001b[0m\u001b[1;33m\u001b[0m\u001b[1;33m\u001b[0m\u001b[0m\n\u001b[0;32m      5\u001b[0m \u001b[0mtiempo_inicial\u001b[0m \u001b[1;33m=\u001b[0m \u001b[0mtime\u001b[0m\u001b[1;33m(\u001b[0m\u001b[1;33m)\u001b[0m\u001b[1;33m\u001b[0m\u001b[1;33m\u001b[0m\u001b[0m\n",
      "\u001b[1;31mNameError\u001b[0m: name 'readTransactionalDatabase' is not defined"
     ]
    }
   ],
   "source": [
    "import collections\n",
    "from time import time\n",
    "arr = readTransactionalDatabase(\"shop.dat\")\n",
    "y=pd.DataFrame(arr,dtype=int).values\n",
    "tiempo_inicial = time() \n",
    "test=[21,  32,  54, 136, 213, 239, 274, 348, 411, 753, 764]\n",
    "mask = np.isin(y, test)\n",
    "result=np.sum(mask,1)\n",
    "finalrest=np.count_nonzero(result== 11)\n",
    "tiempo_final = time()\n",
    "print(tiempo_final-tiempo_inicial)\n",
    "print(mask)\n",
    "print(result)\n",
    "finalrest"
   ]
  },
  {
   "cell_type": "code",
   "execution_count": 12,
   "metadata": {},
   "outputs": [
    {
     "name": "stdout",
     "output_type": "stream",
     "text": [
      "(array([0, 2, 3, 5, 6], dtype=int64),)\n"
     ]
    }
   ],
   "source": [
    "arr = readTransactionalDatabase(\"original.dat\")\n",
    "y=pd.DataFrame(arr,dtype=int).values\n",
    "test=[1]\n",
    "mask = np.isin(y, test)\n",
    "print((np.where(np.any(mask,1))))"
   ]
  },
  {
   "cell_type": "code",
   "execution_count": 15,
   "metadata": {},
   "outputs": [
    {
     "name": "stdout",
     "output_type": "stream",
     "text": [
      "\n",
      "\n",
      "Recursion Example Results\n",
      "3 befr\n",
      "2 befr\n",
      "1 befr\n",
      "1\n",
      "3\n",
      "6\n"
     ]
    },
    {
     "data": {
      "text/plain": [
       "6"
      ]
     },
     "execution_count": 15,
     "metadata": {},
     "output_type": "execute_result"
    }
   ],
   "source": [
    "def tri_recursion(k):\n",
    "    if(k>0):\n",
    "        print(k,\"befr\")\n",
    "        result = k+tri_recursion(k-1)\n",
    "        print(result)\n",
    "    else:\n",
    "        result = 0\n",
    "    return result\n",
    "\n",
    "print(\"\\n\\nRecursion Example Results\")\n",
    "tri_recursion(3)"
   ]
  },
  {
   "cell_type": "code",
   "execution_count": 18,
   "metadata": {},
   "outputs": [
    {
     "name": "stdout",
     "output_type": "stream",
     "text": [
      "[[ 1.  2.  4.  5. nan]\n",
      " [ 2.  3.  5. nan nan]\n",
      " [ 1.  2.  3.  5. nan]\n",
      " [ 1.  2.  3.  4.  5.]\n",
      " [ 2.  3. nan nan nan]\n",
      " [ 1.  3.  5. nan nan]\n",
      " [ 1.  2.  3.  5. nan]\n",
      " [ 1.  6. nan nan nan]\n",
      " [ 7. nan nan nan nan]\n",
      " [ 7. nan nan nan nan]\n",
      " [ 7. nan nan nan nan]]\n"
     ]
    },
    {
     "data": {
      "text/plain": [
       "5"
      ]
     },
     "execution_count": 18,
     "metadata": {},
     "output_type": "execute_result"
    }
   ],
   "source": [
    "db=readTransactionalDatabase(\"original.dat\")\n",
    "db=pd.DataFrame(db).values\n",
    "print(db)\n",
    "exam=[2,3]\n",
    "np.count_nonzero(np.sum(np.isin(db,exam),axis=1) ==len(exam))\n"
   ]
  }
 ],
 "metadata": {
  "kernelspec": {
   "display_name": "Python 3",
   "language": "python",
   "name": "python3"
  },
  "language_info": {
   "codemirror_mode": {
    "name": "ipython",
    "version": 3
   },
   "file_extension": ".py",
   "mimetype": "text/x-python",
   "name": "python",
   "nbconvert_exporter": "python",
   "pygments_lexer": "ipython3",
   "version": "3.8.3"
  }
 },
 "nbformat": 4,
 "nbformat_minor": 4
}
