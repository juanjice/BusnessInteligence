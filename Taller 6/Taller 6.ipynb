{
 "cells": [
  {
   "cell_type": "code",
   "execution_count": 2,
   "metadata": {},
   "outputs": [],
   "source": [
    "from metrics import *\n",
    "import pandas as pd\n",
    "import numpy as np\n",
    "import random\n",
    "from scipy.stats import multivariate_normal\n",
    "import seaborn as sns\n",
    "from itertools import combinations \n"
   ]
  },
  {
   "cell_type": "markdown",
   "metadata": {},
   "source": [
    "Sheet 6  \n",
    "Juan Manuel Jimenez   \n",
    "Camilo Andres Fanco Beltran  \n",
    "Ian Chona Canchona"
   ]
  },
  {
   "cell_type": "code",
   "execution_count": 184,
   "metadata": {},
   "outputs": [],
   "source": [
    "mall_customers_data = pd.read_csv(\"Mall_Customers.csv\")\n",
    "del mall_customers_data['CustomerID']"
   ]
  },
  {
   "cell_type": "markdown",
   "metadata": {},
   "source": [
    "1. Write a function kMeans(D, k, eps, mu = None) that runs the kMeans algorithm on\n",
    "a given 2D-numpy array D with k clusters and termination criterion eps. If no initial\n",
    "centroids mu are given, use random points in the range of the dataset.\n",
    "Let the function return a pair C, mu where C is a list that defines for each instance in\n",
    "D its cluster (number). mu should be a list of k elements, containing the means of the\n",
    "respective clusters.\n"
   ]
  },
  {
   "cell_type": "code",
   "execution_count": null,
   "metadata": {
    "scrolled": true
   },
   "outputs": [],
   "source": [
    "def fillCluster(D,mu):\n",
    "    C=np.zeros(D.shape[0])\n",
    "    for i, val in enumerate(D):   \n",
    "            fac=list(map(lambda x : np.linalg.norm(x-val), mu))            \n",
    "            C[i]=np.argmin(fac)+1\n",
    "    return C\n",
    "    \n",
    "def kMeans(D, k, eps, mu = None):\n",
    "    rows, columns = D.shape\n",
    "    \n",
    "    minValues = np.min(D, axis=0)\n",
    "    maxValues = np.max(D, axis=0)\n",
    "    \n",
    "    if mu is None:\n",
    "        mu = []\n",
    "        for i in range(k):\n",
    "            vals = np.zeros(columns)\n",
    "            for col in range(columns):\n",
    "                vals[col] = (random.uniform(minValues[col], maxValues[col]))\n",
    "            mu.append(vals)\n",
    "    t = 0\n",
    "    while True:\n",
    "        t = t+1\n",
    "        C = np.zeros(rows, dtype=int)        \n",
    "        mu_last = mu.copy()\n",
    "        \n",
    "        C=fillCluster(D,mu)       \n",
    "        if any(list(map(lambda x:x in C,np.arange(1,k+1)))):   \n",
    "            while True:\n",
    "                C_empty=int()\n",
    "                for i in range(1,k+1):\n",
    "                    nothingEmpty=True\n",
    "                    if not(i in C):\n",
    "                        nothingEmpty=False\n",
    "                        C_empty=i\n",
    "                        print(\"cluster vacio\")\n",
    "                \n",
    "                randomRealPoint=np.random.choice(rows, size=1, replace=False)        \n",
    "                mu[C_empty-1]=D[randomRealPoint]        \n",
    "                C=fillCluster(D,mu)\n",
    "                if nothingEmpty:\n",
    "                    break;\n",
    "                \n",
    "        for k_i, centroid in enumerate(mu):\n",
    "            condition = (C == k_i+1)\n",
    "            indexes =  np.where(condition)[0]            \n",
    "            sum_k = np.sum(D[indexes], axis=0)\n",
    "            mu[k_i] = sum_k/len(indexes)\n",
    "        \n",
    "        \n",
    "        conv_dist = 0\n",
    "        for k_i, centroid in enumerate(mu):\n",
    "            conv_dist += np.linalg.norm(mu[k_i]-mu_last[k_i])\n",
    "                \n",
    "        if conv_dist <= eps:\n",
    "            break;    \n",
    "    return C, mu\n",
    "    \n",
    "#C, mu = kMeans(mall_customers_data._get_numeric_data().values[:,[0,1]], 3, 0.01, mu = None)\n"
   ]
  },
  {
   "cell_type": "markdown",
   "metadata": {},
   "source": [
    "2 Write a function EM(D, k, eps, mu = None, independent = False) that conducts\n",
    "the expectation maximization algorithm on a given 2D-numpy array D with k clusters and termination criterion eps. If no initial centroids mu are given, use random\n",
    "points in the range of the dataset. If independent is set to True, treat the attributes as\n",
    "independent when estimating the cluster co-variance matrices.\n",
    "Let the function return a triple w, mu, cov, where w is the assignment probability matrix\n",
    "(one line per point, one column per cluster), and mu, and cov are lists of means/covariance matrices of the k clusters.\n",
    "Hints:\n",
    "\n",
    "• Check that the weights for each instance sum up to 1 after the expectation step.\n",
    "\n",
    "• If you run into numeric problems or create singular estimates of the co-variance\n",
    "matrices for the clusters, you can restart your algorithm."
   ]
  },
  {
   "cell_type": "code",
   "execution_count": 171,
   "metadata": {
    "scrolled": false
   },
   "outputs": [],
   "source": [
    "def EM(D, k, eps, mu = None, independent = False):\n",
    "    rows, columns = D.shape\n",
    "    \n",
    "    minValues = np.min(D, axis=0)\n",
    "    maxValues = np.max(D, axis=0)\n",
    "    \n",
    "    if mu is None:\n",
    "        mu = []\n",
    "        for i in range(k):\n",
    "            vals = np.zeros(columns)\n",
    "            for col in range(columns):\n",
    "                vals[col] = (random.uniform(minValues[col], maxValues[col]))\n",
    "            mu.append(vals)\n",
    "\n",
    "    cov_M = []\n",
    "    for i in range(k):\n",
    "\n",
    "        cov_M.append(np.diag(np.var(D, axis = 0)))\n",
    "\n",
    "    P_C = np.full(k, 1/k)\n",
    "    t = 0\n",
    "    w = np.zeros(shape=(rows, k))\n",
    "\n",
    "    while True:\n",
    "        t = t+1\n",
    "        mu_last = mu.copy()\n",
    "        for i in range(k):\n",
    "            fi_xj= 0\n",
    "            for j, xj in enumerate(D):\n",
    "                sum_pos_prob = 0\n",
    "                for a in range(k):\n",
    "                    fa_xj = multivariate_normal.pdf(xj, mean=mu[a], cov=cov_M[a], allow_singular=True)                    \n",
    "                    sum_pos_prob += fa_xj * P_C[a]\n",
    "                fi_xj = multivariate_normal.pdf(xj, mean=mu[i], cov=cov_M[i], allow_singular=True)\n",
    "                wij = (fi_xj * P_C[i])/sum_pos_prob\n",
    "                w[j,i] = wij \n",
    "        \n",
    "\n",
    "        for i in range(k):\n",
    "            sum_mean = 0\n",
    "            sum_cov = 0\n",
    "            sum_prob = 0\n",
    "\n",
    "            for j, xj in enumerate(D):\n",
    "                sum_mean += w[j,i] * xj\n",
    "        \n",
    "                z = xj-mu[i]\n",
    "                sum_cov += w[j,i] * (z*z.reshape(-1, 1))\n",
    "                \n",
    "                sum_prob += w[j,i]\n",
    "\n",
    "            mu[i] = sum_mean/sum_prob\n",
    "\n",
    "            cov_M[i] = sum_cov/sum_prob\n",
    "            \n",
    "            if independent:\n",
    "                cov_M[i] = np.tril(np.triu(cov_M[i], k=0), k=0)\n",
    "\n",
    "            P_C[i] = sum_prob/rows\n",
    "\n",
    "        conv_dist = 0\n",
    "        for k_centroid, centroid in enumerate(mu):\n",
    "            conv_dist += np.linalg.norm(mu[k_centroid]-mu_last[k_centroid])\n",
    "        \n",
    "        if conv_dist <= eps:\n",
    "            break;\n",
    "            \n",
    "    return w, mu, cov_M\n",
    "             \n",
    "# w, mu, cov_M = EM(mall_customers_data._get_numeric_data().values, 2, 0.01, mu = None, independent = False)\n"
   ]
  },
  {
   "cell_type": "markdown",
   "metadata": {},
   "source": [
    "• Write a function getClusterings(D, k) that assumes eps = 0.01 and runs the three\n",
    "algorithms (EM once with dependent and once with independent attributes) for the given\n",
    "k and returns a triplet C1, C2, C3 with the clusterings produced by the three algorithms\n",
    "respectively (for EM, assign each point to the cluster with its highest probability)."
   ]
  },
  {
   "cell_type": "code",
   "execution_count": 172,
   "metadata": {
    "scrolled": false
   },
   "outputs": [],
   "source": [
    "def getClusterings(D, k):\n",
    "    eps = 2\n",
    "    \n",
    "    rows, columns = D.shape\n",
    "    \n",
    "    # K Means\n",
    "    C1, mu = kMeans(D, k, eps, mu = None)\n",
    "    \n",
    "    # EM Dependent\n",
    "    w, mu, cov_M = EM(D, k, eps, mu = None, independent = False)\n",
    "    C2 = np.zeros(rows, dtype=int)\n",
    "    \n",
    "    # EM Independent\n",
    "    w2, mu2, cov_M2 = EM(D, k, eps, mu = None, independent = True)\n",
    "    C3 = np.zeros(rows, dtype=int)\n",
    "    \n",
    "    for i, xi in enumerate(D):\n",
    "        index_max_prob = np.argmax(w[i])\n",
    "        C2[i] = index_max_prob + 1\n",
    "        \n",
    "        index_max_prob_2 = np.argmax(w2[i])\n",
    "        C3[i] = index_max_prob_2 + 1\n",
    "        \n",
    "    return C1, C2, C3\n",
    "    \n",
    "    \n",
    "C1, C2, C3 = getClusterings(mall_customers_data._get_numeric_data().values, 3)\n",
    "\n"
   ]
  },
  {
   "cell_type": "markdown",
   "metadata": {},
   "source": [
    "• Write a function plotMetrics(D,l=100) that invokes getClusterings(D, k) 10 times\n",
    "for k = 2, 3, 4, 5 each. The function then should create a 7 × 3 grid in which each figure\n",
    "shows a boxplot. In this figure grid, each line represents a metric, and each column\n",
    "represents one of the three algorithms. In plot (i, j), show the 4 box plots summarizing,\n",
    "for each k, the i-th metric among the l runs for the j-th clustering algorithm.\n",
    "Based on these results for l = 100, which value for k, and which algorithm would you\n",
    "suggest to realize the clustering?"
   ]
  },
  {
   "cell_type": "code",
   "execution_count": 173,
   "metadata": {
    "scrolled": true
   },
   "outputs": [
    {
     "name": "stdout",
     "output_type": "stream",
     "text": [
      "0\n"
     ]
    },
    {
     "name": "stderr",
     "output_type": "stream",
     "text": [
      "<ipython-input-170-d8c535cc8172>:48: RuntimeWarning: invalid value encountered in true_divide\n",
      "  mu[k_i] = sum_k/len(indexes)\n"
     ]
    },
    {
     "ename": "KeyboardInterrupt",
     "evalue": "",
     "output_type": "error",
     "traceback": [
      "\u001b[1;31m---------------------------------------------------------------------------\u001b[0m",
      "\u001b[1;31mKeyboardInterrupt\u001b[0m                         Traceback (most recent call last)",
      "\u001b[1;32m<ipython-input-173-f6744c7d72bb>\u001b[0m in \u001b[0;36m<module>\u001b[1;34m\u001b[0m\n\u001b[0;32m     25\u001b[0m     \u001b[0mplt\u001b[0m\u001b[1;33m.\u001b[0m\u001b[0mshow\u001b[0m\u001b[1;33m(\u001b[0m\u001b[1;33m)\u001b[0m\u001b[1;33m\u001b[0m\u001b[1;33m\u001b[0m\u001b[0m\n\u001b[0;32m     26\u001b[0m \u001b[1;33m\u001b[0m\u001b[0m\n\u001b[1;32m---> 27\u001b[1;33m \u001b[0mplotMetrics\u001b[0m\u001b[1;33m(\u001b[0m\u001b[0mmall_customers_data\u001b[0m\u001b[1;33m.\u001b[0m\u001b[0m_get_numeric_data\u001b[0m\u001b[1;33m(\u001b[0m\u001b[1;33m)\u001b[0m\u001b[1;33m.\u001b[0m\u001b[0mvalues\u001b[0m\u001b[1;33m)\u001b[0m\u001b[1;33m\u001b[0m\u001b[1;33m\u001b[0m\u001b[0m\n\u001b[0m",
      "\u001b[1;32m<ipython-input-173-f6744c7d72bb>\u001b[0m in \u001b[0;36mplotMetrics\u001b[1;34m(D, l)\u001b[0m\n\u001b[0;32m     12\u001b[0m         \u001b[1;32mfor\u001b[0m \u001b[0mj\u001b[0m\u001b[1;33m,\u001b[0m \u001b[0mkj\u001b[0m \u001b[1;32min\u001b[0m \u001b[0menumerate\u001b[0m\u001b[1;33m(\u001b[0m\u001b[0mk\u001b[0m\u001b[1;33m)\u001b[0m\u001b[1;33m:\u001b[0m\u001b[1;33m\u001b[0m\u001b[1;33m\u001b[0m\u001b[0m\n\u001b[0;32m     13\u001b[0m             \u001b[1;31m# C1, C2, C3\u001b[0m\u001b[1;33m\u001b[0m\u001b[1;33m\u001b[0m\u001b[1;33m\u001b[0m\u001b[0m\n\u001b[1;32m---> 14\u001b[1;33m             \u001b[0mclusters\u001b[0m \u001b[1;33m=\u001b[0m \u001b[0mgetClusterings\u001b[0m\u001b[1;33m(\u001b[0m\u001b[0mD\u001b[0m\u001b[1;33m,\u001b[0m \u001b[0mkj\u001b[0m\u001b[1;33m)\u001b[0m\u001b[1;33m\u001b[0m\u001b[1;33m\u001b[0m\u001b[0m\n\u001b[0m\u001b[0;32m     15\u001b[0m             \u001b[1;32mfor\u001b[0m \u001b[0mc\u001b[0m\u001b[1;33m,\u001b[0m \u001b[0mcluster\u001b[0m \u001b[1;32min\u001b[0m \u001b[0menumerate\u001b[0m\u001b[1;33m(\u001b[0m\u001b[0mclusters\u001b[0m\u001b[1;33m)\u001b[0m\u001b[1;33m:\u001b[0m\u001b[1;33m\u001b[0m\u001b[1;33m\u001b[0m\u001b[0m\n\u001b[0;32m     16\u001b[0m                 \u001b[1;32mfor\u001b[0m \u001b[0mm\u001b[0m\u001b[1;33m,\u001b[0m \u001b[0mmetric\u001b[0m \u001b[1;32min\u001b[0m \u001b[0menumerate\u001b[0m\u001b[1;33m(\u001b[0m\u001b[0mmetrics\u001b[0m\u001b[1;33m)\u001b[0m\u001b[1;33m:\u001b[0m\u001b[1;33m\u001b[0m\u001b[1;33m\u001b[0m\u001b[0m\n",
      "\u001b[1;32m<ipython-input-172-78a035e7a29f>\u001b[0m in \u001b[0;36mgetClusterings\u001b[1;34m(D, k)\u001b[0m\n\u001b[0;32m      5\u001b[0m \u001b[1;33m\u001b[0m\u001b[0m\n\u001b[0;32m      6\u001b[0m     \u001b[1;31m# K Means\u001b[0m\u001b[1;33m\u001b[0m\u001b[1;33m\u001b[0m\u001b[1;33m\u001b[0m\u001b[0m\n\u001b[1;32m----> 7\u001b[1;33m     \u001b[0mC1\u001b[0m\u001b[1;33m,\u001b[0m \u001b[0mmu\u001b[0m \u001b[1;33m=\u001b[0m \u001b[0mkMeans\u001b[0m\u001b[1;33m(\u001b[0m\u001b[0mD\u001b[0m\u001b[1;33m,\u001b[0m \u001b[0mk\u001b[0m\u001b[1;33m,\u001b[0m \u001b[0meps\u001b[0m\u001b[1;33m,\u001b[0m \u001b[0mmu\u001b[0m \u001b[1;33m=\u001b[0m \u001b[1;32mNone\u001b[0m\u001b[1;33m)\u001b[0m\u001b[1;33m\u001b[0m\u001b[1;33m\u001b[0m\u001b[0m\n\u001b[0m\u001b[0;32m      8\u001b[0m \u001b[1;33m\u001b[0m\u001b[0m\n\u001b[0;32m      9\u001b[0m     \u001b[1;31m# EM Dependent\u001b[0m\u001b[1;33m\u001b[0m\u001b[1;33m\u001b[0m\u001b[1;33m\u001b[0m\u001b[0m\n",
      "\u001b[1;32m<ipython-input-170-d8c535cc8172>\u001b[0m in \u001b[0;36mkMeans\u001b[1;34m(D, k, eps, mu)\u001b[0m\n\u001b[0;32m     25\u001b[0m         \u001b[0mmu_last\u001b[0m \u001b[1;33m=\u001b[0m \u001b[0mmu\u001b[0m\u001b[1;33m.\u001b[0m\u001b[0mcopy\u001b[0m\u001b[1;33m(\u001b[0m\u001b[1;33m)\u001b[0m\u001b[1;33m\u001b[0m\u001b[1;33m\u001b[0m\u001b[0m\n\u001b[0;32m     26\u001b[0m \u001b[1;33m\u001b[0m\u001b[0m\n\u001b[1;32m---> 27\u001b[1;33m         \u001b[0mC\u001b[0m\u001b[1;33m=\u001b[0m\u001b[0mfillCluster\u001b[0m\u001b[1;33m(\u001b[0m\u001b[0mD\u001b[0m\u001b[1;33m,\u001b[0m\u001b[0mmu\u001b[0m\u001b[1;33m)\u001b[0m\u001b[1;33m\u001b[0m\u001b[1;33m\u001b[0m\u001b[0m\n\u001b[0m\u001b[0;32m     28\u001b[0m         \u001b[1;32mif\u001b[0m \u001b[1;32mnot\u001b[0m\u001b[1;33m(\u001b[0m\u001b[0many\u001b[0m\u001b[1;33m(\u001b[0m\u001b[0mlist\u001b[0m\u001b[1;33m(\u001b[0m\u001b[0mmap\u001b[0m\u001b[1;33m(\u001b[0m\u001b[1;32mlambda\u001b[0m \u001b[0mx\u001b[0m\u001b[1;33m:\u001b[0m\u001b[0mx\u001b[0m \u001b[1;32min\u001b[0m \u001b[0mC\u001b[0m\u001b[1;33m,\u001b[0m\u001b[0mnp\u001b[0m\u001b[1;33m.\u001b[0m\u001b[0marange\u001b[0m\u001b[1;33m(\u001b[0m\u001b[1;36m1\u001b[0m\u001b[1;33m,\u001b[0m\u001b[0mk\u001b[0m\u001b[1;33m+\u001b[0m\u001b[1;36m1\u001b[0m\u001b[1;33m)\u001b[0m\u001b[1;33m)\u001b[0m\u001b[1;33m)\u001b[0m\u001b[1;33m)\u001b[0m\u001b[1;33m)\u001b[0m\u001b[1;33m:\u001b[0m\u001b[1;33m\u001b[0m\u001b[1;33m\u001b[0m\u001b[0m\n\u001b[0;32m     29\u001b[0m             \u001b[1;32mwhile\u001b[0m \u001b[1;32mTrue\u001b[0m\u001b[1;33m:\u001b[0m\u001b[1;33m\u001b[0m\u001b[1;33m\u001b[0m\u001b[0m\n",
      "\u001b[1;32m<ipython-input-170-d8c535cc8172>\u001b[0m in \u001b[0;36mfillCluster\u001b[1;34m(D, mu)\u001b[0m\n\u001b[0;32m      3\u001b[0m     \u001b[1;32mfor\u001b[0m \u001b[0mi\u001b[0m\u001b[1;33m,\u001b[0m \u001b[0mval\u001b[0m \u001b[1;32min\u001b[0m \u001b[0menumerate\u001b[0m\u001b[1;33m(\u001b[0m\u001b[0mD\u001b[0m\u001b[1;33m)\u001b[0m\u001b[1;33m:\u001b[0m\u001b[1;33m\u001b[0m\u001b[1;33m\u001b[0m\u001b[0m\n\u001b[0;32m      4\u001b[0m             \u001b[0mfac\u001b[0m\u001b[1;33m=\u001b[0m\u001b[0mlist\u001b[0m\u001b[1;33m(\u001b[0m\u001b[0mmap\u001b[0m\u001b[1;33m(\u001b[0m\u001b[1;32mlambda\u001b[0m \u001b[0mx\u001b[0m \u001b[1;33m:\u001b[0m \u001b[0mnp\u001b[0m\u001b[1;33m.\u001b[0m\u001b[0mlinalg\u001b[0m\u001b[1;33m.\u001b[0m\u001b[0mnorm\u001b[0m\u001b[1;33m(\u001b[0m\u001b[0mx\u001b[0m\u001b[1;33m-\u001b[0m\u001b[0mval\u001b[0m\u001b[1;33m)\u001b[0m\u001b[1;33m,\u001b[0m \u001b[0mmu\u001b[0m\u001b[1;33m)\u001b[0m\u001b[1;33m)\u001b[0m\u001b[1;33m\u001b[0m\u001b[1;33m\u001b[0m\u001b[0m\n\u001b[1;32m----> 5\u001b[1;33m             \u001b[0mC\u001b[0m\u001b[1;33m[\u001b[0m\u001b[0mi\u001b[0m\u001b[1;33m]\u001b[0m\u001b[1;33m=\u001b[0m\u001b[0mnp\u001b[0m\u001b[1;33m.\u001b[0m\u001b[0margmin\u001b[0m\u001b[1;33m(\u001b[0m\u001b[0mfac\u001b[0m\u001b[1;33m)\u001b[0m\u001b[1;33m+\u001b[0m\u001b[1;36m1\u001b[0m\u001b[1;33m\u001b[0m\u001b[1;33m\u001b[0m\u001b[0m\n\u001b[0m\u001b[0;32m      6\u001b[0m     \u001b[1;32mreturn\u001b[0m \u001b[0mC\u001b[0m\u001b[1;33m\u001b[0m\u001b[1;33m\u001b[0m\u001b[0m\n\u001b[0;32m      7\u001b[0m \u001b[1;33m\u001b[0m\u001b[0m\n",
      "\u001b[1;32m<__array_function__ internals>\u001b[0m in \u001b[0;36margmin\u001b[1;34m(*args, **kwargs)\u001b[0m\n",
      "\u001b[1;32mC:\\ProgramData\\Anaconda3\\lib\\site-packages\\numpy\\core\\fromnumeric.py\u001b[0m in \u001b[0;36margmin\u001b[1;34m(a, axis, out)\u001b[0m\n\u001b[0;32m   1265\u001b[0m \u001b[1;33m\u001b[0m\u001b[0m\n\u001b[0;32m   1266\u001b[0m     \"\"\"\n\u001b[1;32m-> 1267\u001b[1;33m     \u001b[1;32mreturn\u001b[0m \u001b[0m_wrapfunc\u001b[0m\u001b[1;33m(\u001b[0m\u001b[0ma\u001b[0m\u001b[1;33m,\u001b[0m \u001b[1;34m'argmin'\u001b[0m\u001b[1;33m,\u001b[0m \u001b[0maxis\u001b[0m\u001b[1;33m=\u001b[0m\u001b[0maxis\u001b[0m\u001b[1;33m,\u001b[0m \u001b[0mout\u001b[0m\u001b[1;33m=\u001b[0m\u001b[0mout\u001b[0m\u001b[1;33m)\u001b[0m\u001b[1;33m\u001b[0m\u001b[1;33m\u001b[0m\u001b[0m\n\u001b[0m\u001b[0;32m   1268\u001b[0m \u001b[1;33m\u001b[0m\u001b[0m\n\u001b[0;32m   1269\u001b[0m \u001b[1;33m\u001b[0m\u001b[0m\n",
      "\u001b[1;32mC:\\ProgramData\\Anaconda3\\lib\\site-packages\\numpy\\core\\fromnumeric.py\u001b[0m in \u001b[0;36m_wrapfunc\u001b[1;34m(obj, method, *args, **kwds)\u001b[0m\n\u001b[0;32m     56\u001b[0m     \u001b[0mbound\u001b[0m \u001b[1;33m=\u001b[0m \u001b[0mgetattr\u001b[0m\u001b[1;33m(\u001b[0m\u001b[0mobj\u001b[0m\u001b[1;33m,\u001b[0m \u001b[0mmethod\u001b[0m\u001b[1;33m,\u001b[0m \u001b[1;32mNone\u001b[0m\u001b[1;33m)\u001b[0m\u001b[1;33m\u001b[0m\u001b[1;33m\u001b[0m\u001b[0m\n\u001b[0;32m     57\u001b[0m     \u001b[1;32mif\u001b[0m \u001b[0mbound\u001b[0m \u001b[1;32mis\u001b[0m \u001b[1;32mNone\u001b[0m\u001b[1;33m:\u001b[0m\u001b[1;33m\u001b[0m\u001b[1;33m\u001b[0m\u001b[0m\n\u001b[1;32m---> 58\u001b[1;33m         \u001b[1;32mreturn\u001b[0m \u001b[0m_wrapit\u001b[0m\u001b[1;33m(\u001b[0m\u001b[0mobj\u001b[0m\u001b[1;33m,\u001b[0m \u001b[0mmethod\u001b[0m\u001b[1;33m,\u001b[0m \u001b[1;33m*\u001b[0m\u001b[0margs\u001b[0m\u001b[1;33m,\u001b[0m \u001b[1;33m**\u001b[0m\u001b[0mkwds\u001b[0m\u001b[1;33m)\u001b[0m\u001b[1;33m\u001b[0m\u001b[1;33m\u001b[0m\u001b[0m\n\u001b[0m\u001b[0;32m     59\u001b[0m \u001b[1;33m\u001b[0m\u001b[0m\n\u001b[0;32m     60\u001b[0m     \u001b[1;32mtry\u001b[0m\u001b[1;33m:\u001b[0m\u001b[1;33m\u001b[0m\u001b[1;33m\u001b[0m\u001b[0m\n",
      "\u001b[1;32mC:\\ProgramData\\Anaconda3\\lib\\site-packages\\numpy\\core\\fromnumeric.py\u001b[0m in \u001b[0;36m_wrapit\u001b[1;34m(obj, method, *args, **kwds)\u001b[0m\n\u001b[0;32m     45\u001b[0m     \u001b[1;32mexcept\u001b[0m \u001b[0mAttributeError\u001b[0m\u001b[1;33m:\u001b[0m\u001b[1;33m\u001b[0m\u001b[1;33m\u001b[0m\u001b[0m\n\u001b[0;32m     46\u001b[0m         \u001b[0mwrap\u001b[0m \u001b[1;33m=\u001b[0m \u001b[1;32mNone\u001b[0m\u001b[1;33m\u001b[0m\u001b[1;33m\u001b[0m\u001b[0m\n\u001b[1;32m---> 47\u001b[1;33m     \u001b[0mresult\u001b[0m \u001b[1;33m=\u001b[0m \u001b[0mgetattr\u001b[0m\u001b[1;33m(\u001b[0m\u001b[0masarray\u001b[0m\u001b[1;33m(\u001b[0m\u001b[0mobj\u001b[0m\u001b[1;33m)\u001b[0m\u001b[1;33m,\u001b[0m \u001b[0mmethod\u001b[0m\u001b[1;33m)\u001b[0m\u001b[1;33m(\u001b[0m\u001b[1;33m*\u001b[0m\u001b[0margs\u001b[0m\u001b[1;33m,\u001b[0m \u001b[1;33m**\u001b[0m\u001b[0mkwds\u001b[0m\u001b[1;33m)\u001b[0m\u001b[1;33m\u001b[0m\u001b[1;33m\u001b[0m\u001b[0m\n\u001b[0m\u001b[0;32m     48\u001b[0m     \u001b[1;32mif\u001b[0m \u001b[0mwrap\u001b[0m\u001b[1;33m:\u001b[0m\u001b[1;33m\u001b[0m\u001b[1;33m\u001b[0m\u001b[0m\n\u001b[0;32m     49\u001b[0m         \u001b[1;32mif\u001b[0m \u001b[1;32mnot\u001b[0m \u001b[0misinstance\u001b[0m\u001b[1;33m(\u001b[0m\u001b[0mresult\u001b[0m\u001b[1;33m,\u001b[0m \u001b[0mmu\u001b[0m\u001b[1;33m.\u001b[0m\u001b[0mndarray\u001b[0m\u001b[1;33m)\u001b[0m\u001b[1;33m:\u001b[0m\u001b[1;33m\u001b[0m\u001b[1;33m\u001b[0m\u001b[0m\n",
      "\u001b[1;31mKeyboardInterrupt\u001b[0m: "
     ]
    }
   ],
   "source": [
    "def plotMetrics(D, l=3):\n",
    "    k = [2, 3, 4, 5]\n",
    "    metrics = [\"beta\", \"cindex\", \"nc\", \"mod\", \"dunn\", \"db\", \"sil\"]\n",
    "    \n",
    "    metricsData = [ [ [ [],[],[],[] ], [ [],[],[],[] ], [ [],[],[],[] ], [ [],[],[],[] ], [ [],[],[],[] ], [ [],[],[],[] ], [ [],[],[],[] ] ] ,\n",
    "                    [ [ [],[],[],[] ], [ [],[],[],[] ], [ [],[],[],[] ], [ [],[],[],[] ], [ [],[],[],[] ], [ [],[],[],[] ], [ [],[],[],[] ] ] ,\n",
    "                    [ [ [],[],[],[] ], [ [],[],[],[] ], [ [],[],[],[] ], [ [],[],[],[] ], [ [],[],[],[] ], [ [],[],[],[] ], [ [],[],[],[] ] ] ]\n",
    "    \n",
    "    DM = getDistances(D)\n",
    "    \n",
    "    for i in range(l):\n",
    "        for j, kj in enumerate(k):\n",
    "            # C1, C2, C3\n",
    "            clusters = getClusterings(D, kj)\n",
    "            for c, cluster in enumerate(clusters):\n",
    "                for m, metric in enumerate(metrics):\n",
    "                    mtr = getMetric(D, cluster, metric)\n",
    "                    metricsData[c][m][j].append(mtr)\n",
    "        print(i)\n",
    "\n",
    "    fig, ax = plt.subplots(nrows=7, ncols=3, figsize=(15,20))\n",
    "    for metric_i, row in enumerate(ax):\n",
    "        for algorithm_i, col in enumerate(row):\n",
    "            col.boxplot(metricsData[algorithm_i][metric_i])\n",
    "    plt.show()\n",
    "        \n",
    "plotMetrics(mall_customers_data._get_numeric_data().values)\n",
    "#Demora mucho tiempo"
   ]
  },
  {
   "cell_type": "code",
   "execution_count": null,
   "metadata": {},
   "outputs": [
    {
     "name": "stdout",
     "output_type": "stream",
     "text": [
      "9656\n"
     ]
    }
   ],
   "source": [
    "mall_customers=mall_customers_data.copy()\n",
    "mall_customers['Gender']=mall_customers_data['Gender'].replace(['Male', 'Female'], [0,1])\n",
    "mall_customers=mall_customers.values[:,1:]\n",
    "\n",
    "#fig, ax = plt.subplots(nrows=10, ncols=6,  figsize=(20,35))\n",
    "for combo in combinations(np.arange(mall_customers.shape[1]),2): \n",
    "    for i in range(10):        \n",
    "        C, mu=kMeans(mall_customers[:,[combo[0],combo[1]]], 3, 0.01, mu = None)\n",
    "        plotClusters(mall_customers, C, 0, 1, None, None)\n",
    "#Demora mucho tiempo        "
   ]
  },
  {
   "cell_type": "markdown",
   "metadata": {},
   "source": [
    "• Exercise 1 (1 Point) Create an example (ﬁgure with explanation) that shows how K-Means\n",
    "will update a clustering C in such a way that one cluster becomes empty even though it had\n",
    "at least one point in C."
   ]
  },
  {
   "cell_type": "code",
   "execution_count": 21,
   "metadata": {},
   "outputs": [
    {
     "data": {
      "image/png": "[encoded data removed]",
      "text/plain": [
       "<Figure size 432x288 with 1 Axes>"
      ]
     },
     "metadata": {
      "needs_background": "light"
     },
     "output_type": "display_data"
    }
   ],
   "source": [
    "#para eso vamos a correr el k means unas pocas veces en lugar de cumplir epsilon\n",
    "def fillCluster(D,mu):\n",
    "    C=np.zeros(D.shape[0])\n",
    "    for i, val in enumerate(D):   \n",
    "            fac=list(map(lambda x : np.linalg.norm(x-val), mu))            \n",
    "            C[i]=np.argmin(fac)+1\n",
    "    return C\n",
    "    \n",
    "def kMeans(D, k, eps, mu = None):\n",
    "    rows, columns = D.shape\n",
    "    \n",
    "    minValues = np.min(D, axis=0)\n",
    "    maxValues = np.max(D, axis=0)\n",
    "    \n",
    "    if mu is None:\n",
    "        mu = []\n",
    "        for i in range(k):\n",
    "            vals = np.zeros(columns)\n",
    "            for col in range(columns):\n",
    "                vals[col] = (random.uniform(minValues[col], maxValues[col]))\n",
    "            mu.append(vals)    \n",
    "    t = 0\n",
    "    while True:\n",
    "        t = t+1\n",
    "        C = np.zeros(rows, dtype=int)        \n",
    "        mu_last = mu.copy()\n",
    "        \n",
    "        C=fillCluster(D,mu)        \n",
    "                            \n",
    "        for k_i, centroid in enumerate(mu):\n",
    "            condition = (C == k_i+1)\n",
    "            indexes =  np.where(condition)[0]\n",
    "            if not(len(indexes)==0):\n",
    "                sum_k = np.sum(D[indexes], axis=0)\n",
    "                mu[k_i] = sum_k/len(indexes)\n",
    "            \n",
    "        \n",
    "        \n",
    "        conv_dist = 0\n",
    "        for k_i, centroid in enumerate(mu):\n",
    "            conv_dist += np.linalg.norm(mu[k_i]-mu_last[k_i])\n",
    "                \n",
    "        if t == 4:\n",
    "            break;\n",
    "\n",
    "    return C, mu\n",
    "\n",
    "mu=np.array([[3,5],[6,3],[8,6]])\n",
    "set2=np.array([[2,3],[3,5],[3,6],[3,7],[5,7],[8,7],[9,6]])\n",
    "C,mu=kMeans(set2,3,0.01,mu)\n",
    "plotClusters(set2, C, 0, 1, None, None)\n",
    "#plt.plot(mu2,'ro')\n"
   ]
  },
  {
   "cell_type": "code",
   "execution_count": null,
   "metadata": {},
   "outputs": [],
   "source": [
    "#En el ejemplo anterior podemos observar que solo se crean dos grupos por que existe un centroide\n",
    "#que esta muy alejado apesar de que esta en el rangoe de los datos,\n",
    "#De echo no necesariamente debe estar alejado, sencillamente\n",
    "#no tiene distancias tan cercanas como los anteriores centroides.\n",
    "#Este puede ser un error de aleatoreidad muy comun, y ocaciona que\n",
    "#existan las divisiones por cero\n",
    "#Para solucionarlo sencillamente debemos re organizar los puntos aleatorios\n",
    "#de inicio como puntos reales dentro del dataset, en lugar de\n",
    "#crear numeros aleatorios dentro de un maximo y un minimo\n",
    "#escoger por ejemplo si (son 3 clusters) escoger 3 puntos reales dentro del\n",
    "#dataset, reales pero aleatoreos"
   ]
  },
  {
   "cell_type": "code",
   "execution_count": 23,
   "metadata": {},
   "outputs": [
    {
     "data": {
      "image/png": "[encoded data removed]",
      "text/plain": [
       "<Figure size 432x288 with 1 Axes>"
      ]
     },
     "metadata": {
      "needs_background": "light"
     },
     "output_type": "display_data"
    }
   ],
   "source": [
    "def fillCluster(D,mu):\n",
    "    C=np.zeros(D.shape[0])\n",
    "    for i, val in enumerate(D):   \n",
    "            fac=list(map(lambda x : np.linalg.norm(x-val), mu))            \n",
    "            C[i]=np.argmin(fac)+1\n",
    "    return C\n",
    "    \n",
    "def kMeans(D, k, eps, mu = None):\n",
    "    rows, columns = D.shape\n",
    "    \n",
    "    minValues = np.min(D, axis=0)\n",
    "    maxValues = np.max(D, axis=0)\n",
    "    \n",
    "    if mu is None:\n",
    "        mu = []\n",
    "        for i in range(k):\n",
    "            vals = np.zeros(columns)\n",
    "            for col in range(columns):\n",
    "                vals[col] = (random.uniform(minValues[col], maxValues[col]))\n",
    "            mu.append(vals)    \n",
    "    t = 0\n",
    "    while True:\n",
    "        t = t+1\n",
    "        C = np.zeros(rows, dtype=int)        \n",
    "        mu_last = mu.copy()\n",
    "        \n",
    "        C=fillCluster(D,mu)\n",
    "        if any(list(map(lambda x:x in C,np.arange(1,k+1)))):\n",
    "                       \n",
    "            randomRealPoint=np.random.choice(rows, size=k ,replace=False)\n",
    "            \n",
    "            for i in range(k):\n",
    "                mu[i]=D[randomRealPoint[i]]\n",
    "            \n",
    "            C=fillCluster(D,mu) \n",
    "                            \n",
    "        for k_i, centroid in enumerate(mu):\n",
    "            condition = (C == k_i+1)\n",
    "            indexes =  np.where(condition)[0]\n",
    "            if not(len(indexes)==0):\n",
    "                sum_k = np.sum(D[indexes], axis=0)\n",
    "                mu[k_i] = sum_k/len(indexes)\n",
    "            \n",
    "        \n",
    "        \n",
    "        conv_dist = 0\n",
    "        for k_i, centroid in enumerate(mu):\n",
    "            conv_dist += np.linalg.norm(mu[k_i]-mu_last[k_i])\n",
    "                \n",
    "        if t == 4:\n",
    "            break;\n",
    "\n",
    "    return C, mu\n",
    "\n",
    "mu=np.array([[3,5],[6,3],[8,6]])\n",
    "set2=np.array([[2,3],[3,5],[3,6],[3,7],[5,7],[8,7],[9,6]])\n",
    "C,mu=kMeans(set2,3,0.01,mu)\n",
    "plotClusters(set2, C, 0, 1, None, None)"
   ]
  },
  {
   "cell_type": "code",
   "execution_count": null,
   "metadata": {},
   "outputs": [],
   "source": [
    "#Como podemos observar añadimos al codigo una parte, en la cual especificamos\n",
    "#que si existe un cluster vacio, sencillamente asignamos puntos reales"
   ]
  }
 ],
 "metadata": {
  "kernelspec": {
   "display_name": "Python 3",
   "language": "python",
   "name": "python3"
  },
  "language_info": {
   "codemirror_mode": {
    "name": "ipython",
    "version": 3
   },
   "file_extension": ".py",
   "mimetype": "text/x-python",
   "name": "python",
   "nbconvert_exporter": "python",
   "pygments_lexer": "ipython3",
   "version": "3.8.3"
  }
 },
 "nbformat": 4,
 "nbformat_minor": 2
}
