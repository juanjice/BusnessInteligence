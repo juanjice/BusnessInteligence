{
 "cells": [
  {
   "cell_type": "code",
   "execution_count": 13,
   "metadata": {},
   "outputs": [],
   "source": [
    "import numpy as np\n",
    "import pandas as pd\n",
    "import random\n"
   ]
  },
  {
   "cell_type": "markdown",
   "metadata": {},
   "source": [
    "Sheet 6  \n",
    "Juan Manuel Jimenez   \n",
    "Camilo Andres Fanco Beltran  \n",
    "Ian Chona Canchona\n"
   ]
  },
  {
   "cell_type": "markdown",
   "metadata": {},
   "source": [
    "Exercise 2.1\n",
    "Write a function kMeans(D, k, eps, mu = None) that runs the kMeans algorithm on\n",
    "a given 2D-numpy array D with k clusters and termination criterion eps. If no initial\n",
    "centroids mu are given, use random points in the range of the dataset.\n",
    "\n",
    "\n"
   ]
  },
  {
   "cell_type": "code",
   "execution_count": 84,
   "metadata": {},
   "outputs": [
    {
     "name": "stdout",
     "output_type": "stream",
     "text": [
      "[[0.]\n",
      " [0.]\n",
      " [0.]]\n",
      "1\n",
      "2\n",
      "3\n",
      "4\n",
      "5\n",
      "6\n",
      "7\n",
      "8\n",
      "9\n",
      "10\n"
     ]
    },
    {
     "data": {
      "text/plain": [
       "array([[0.7507316 , 0.36664836],\n",
       "       [0.56244466, 0.4881279 ],\n",
       "       [0.49818212, 0.64800661]])"
      ]
     },
     "execution_count": 84,
     "metadata": {},
     "output_type": "execute_result"
    }
   ],
   "source": [
    "def kMeans(D,k,eps,mu=None):\n",
    "    \n",
    "    #Initialize centroids\n",
    "    centroids=mu \n",
    "    if( (mu is None) or (mu.shape[0]!=k)):        \n",
    "        centroids=np.column_stack((np.random.uniform(D[0].min(),D[0].max(),[k,1]),np.random.uniform(D[1].min(),D[1].max(),[k,1])))\n",
    "    #The cycle starts\n",
    "    t=0    \n",
    "    print(Cj)\n",
    "    while (t!=10):\n",
    "        t+=1\n",
    "        Cj=np.zeros([3,1])\n",
    "        print(t)\n",
    "        \n",
    "          \n",
    "    \n",
    "    return centroids\n",
    "\n",
    "\n",
    "a=np.random.rand(2,10)\n",
    "kMeans(a,3,\"eps\",np.array([[1,2],[3,4],[5,6],[4,3]]))"
   ]
  },
  {
   "cell_type": "code",
   "execution_count": null,
   "metadata": {},
   "outputs": [],
   "source": []
  },
  {
   "cell_type": "code",
   "execution_count": null,
   "metadata": {},
   "outputs": [],
   "source": []
  }
 ],
 "metadata": {
  "kernelspec": {
   "display_name": "Python 3",
   "language": "python",
   "name": "python3"
  },
  "language_info": {
   "codemirror_mode": {
    "name": "ipython",
    "version": 3
   },
   "file_extension": ".py",
   "mimetype": "text/x-python",
   "name": "python",
   "nbconvert_exporter": "python",
   "pygments_lexer": "ipython3",
   "version": "3.8.3"
  }
 },
 "nbformat": 4,
 "nbformat_minor": 4
}
